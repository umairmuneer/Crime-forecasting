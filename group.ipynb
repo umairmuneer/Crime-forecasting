{
 "cells": [
  {
   "cell_type": "code",
   "execution_count": 45,
   "id": "damaged-treasure",
   "metadata": {},
   "outputs": [],
   "source": [
    "import numpy as np\n",
    "import matplotlib.pyplot as plt\n",
    "import pandas as pd\n",
    "# simplify the package in a short name. Below are the standard names people use for Pandas, Numpy, seaborn and matplotlib.pyplot\n",
    "# import a new library\n",
    "import datetime\n",
    "#import seaborn as sns\n",
    "from common.utils import load_data"
   ]
  },
  {
   "cell_type": "code",
   "execution_count": 46,
   "id": "crucial-registration",
   "metadata": {},
   "outputs": [
    {
     "data": {
      "text/html": [
       "<div>\n",
       "<style scoped>\n",
       "    .dataframe tbody tr th:only-of-type {\n",
       "        vertical-align: middle;\n",
       "    }\n",
       "\n",
       "    .dataframe tbody tr th {\n",
       "        vertical-align: top;\n",
       "    }\n",
       "\n",
       "    .dataframe thead th {\n",
       "        text-align: right;\n",
       "    }\n",
       "</style>\n",
       "<table border=\"1\" class=\"dataframe\">\n",
       "  <thead>\n",
       "    <tr style=\"text-align: right;\">\n",
       "      <th></th>\n",
       "      <th>Unnamed: 0</th>\n",
       "      <th>h</th>\n",
       "      <th>prediction</th>\n",
       "      <th>actual</th>\n",
       "    </tr>\n",
       "  </thead>\n",
       "  <tbody>\n",
       "    <tr>\n",
       "      <th>2017-01-01 22:00:00</th>\n",
       "      <td>0</td>\n",
       "      <td>t+1</td>\n",
       "      <td>36.654627</td>\n",
       "      <td>38.0</td>\n",
       "    </tr>\n",
       "    <tr>\n",
       "      <th>2017-01-01 23:00:00</th>\n",
       "      <td>1</td>\n",
       "      <td>t+1</td>\n",
       "      <td>29.864814</td>\n",
       "      <td>24.0</td>\n",
       "    </tr>\n",
       "    <tr>\n",
       "      <th>2017-01-02 00:00:00</th>\n",
       "      <td>2</td>\n",
       "      <td>t+1</td>\n",
       "      <td>32.065574</td>\n",
       "      <td>23.0</td>\n",
       "    </tr>\n",
       "    <tr>\n",
       "      <th>2017-01-02 01:00:00</th>\n",
       "      <td>3</td>\n",
       "      <td>t+1</td>\n",
       "      <td>31.575773</td>\n",
       "      <td>19.0</td>\n",
       "    </tr>\n",
       "    <tr>\n",
       "      <th>2017-01-02 02:00:00</th>\n",
       "      <td>4</td>\n",
       "      <td>t+1</td>\n",
       "      <td>28.157151</td>\n",
       "      <td>14.0</td>\n",
       "    </tr>\n",
       "  </tbody>\n",
       "</table>\n",
       "</div>"
      ],
      "text/plain": [
       "                     Unnamed: 0    h  prediction  actual\n",
       "2017-01-01 22:00:00           0  t+1   36.654627    38.0\n",
       "2017-01-01 23:00:00           1  t+1   29.864814    24.0\n",
       "2017-01-02 00:00:00           2  t+1   32.065574    23.0\n",
       "2017-01-02 01:00:00           3  t+1   31.575773    19.0\n",
       "2017-01-02 02:00:00           4  t+1   28.157151    14.0"
      ]
     },
     "execution_count": 46,
     "metadata": {},
     "output_type": "execute_result"
    }
   ],
   "source": [
    "crimes2 = load_data('C:/Users/ghazwan/Pictures/last test/2017/hourly/','es_bi_lstm_all2_2017XL'+'.csv')\n",
    "crimes2.head()"
   ]
  },
  {
   "cell_type": "code",
   "execution_count": 64,
   "id": "successful-baseline",
   "metadata": {},
   "outputs": [
    {
     "data": {
      "text/plain": [
       "Int64Index([ 1,  1,  1,  1,  1,  1,  1,  1,  1,  1,\n",
       "            ...\n",
       "            12, 12, 12, 12, 12, 12, 12, 12, 12, 12],\n",
       "           dtype='int64', length=8688)"
      ]
     },
     "execution_count": 64,
     "metadata": {},
     "output_type": "execute_result"
    }
   ],
   "source": [
    "crimes2.index.month"
   ]
  },
  {
   "cell_type": "code",
   "execution_count": 94,
   "id": "comparable-carter",
   "metadata": {},
   "outputs": [
    {
     "data": {
      "text/html": [
       "<div>\n",
       "<style scoped>\n",
       "    .dataframe tbody tr th:only-of-type {\n",
       "        vertical-align: middle;\n",
       "    }\n",
       "\n",
       "    .dataframe tbody tr th {\n",
       "        vertical-align: top;\n",
       "    }\n",
       "\n",
       "    .dataframe thead th {\n",
       "        text-align: right;\n",
       "    }\n",
       "</style>\n",
       "<table border=\"1\" class=\"dataframe\">\n",
       "  <thead>\n",
       "    <tr style=\"text-align: right;\">\n",
       "      <th></th>\n",
       "      <th>Unnamed: 0</th>\n",
       "      <th>h</th>\n",
       "      <th>prediction</th>\n",
       "      <th>actual</th>\n",
       "    </tr>\n",
       "  </thead>\n",
       "  <tbody>\n",
       "    <tr>\n",
       "      <th>2017-01-01 22:00:00</th>\n",
       "      <td>0</td>\n",
       "      <td>t+1</td>\n",
       "      <td>36.654627</td>\n",
       "      <td>38.0</td>\n",
       "    </tr>\n",
       "    <tr>\n",
       "      <th>2017-01-01 23:00:00</th>\n",
       "      <td>1</td>\n",
       "      <td>t+1</td>\n",
       "      <td>29.864814</td>\n",
       "      <td>24.0</td>\n",
       "    </tr>\n",
       "    <tr>\n",
       "      <th>2017-01-02 00:00:00</th>\n",
       "      <td>2</td>\n",
       "      <td>t+1</td>\n",
       "      <td>32.065574</td>\n",
       "      <td>23.0</td>\n",
       "    </tr>\n",
       "    <tr>\n",
       "      <th>2017-01-02 01:00:00</th>\n",
       "      <td>3</td>\n",
       "      <td>t+1</td>\n",
       "      <td>31.575773</td>\n",
       "      <td>19.0</td>\n",
       "    </tr>\n",
       "    <tr>\n",
       "      <th>2017-01-02 02:00:00</th>\n",
       "      <td>4</td>\n",
       "      <td>t+1</td>\n",
       "      <td>28.157151</td>\n",
       "      <td>14.0</td>\n",
       "    </tr>\n",
       "    <tr>\n",
       "      <th>...</th>\n",
       "      <td>...</td>\n",
       "      <td>...</td>\n",
       "      <td>...</td>\n",
       "      <td>...</td>\n",
       "    </tr>\n",
       "    <tr>\n",
       "      <th>2017-01-31 19:00:00</th>\n",
       "      <td>717</td>\n",
       "      <td>t+1</td>\n",
       "      <td>37.968033</td>\n",
       "      <td>30.0</td>\n",
       "    </tr>\n",
       "    <tr>\n",
       "      <th>2017-01-31 20:00:00</th>\n",
       "      <td>718</td>\n",
       "      <td>t+1</td>\n",
       "      <td>28.054403</td>\n",
       "      <td>25.0</td>\n",
       "    </tr>\n",
       "    <tr>\n",
       "      <th>2017-01-31 21:00:00</th>\n",
       "      <td>719</td>\n",
       "      <td>t+1</td>\n",
       "      <td>21.291871</td>\n",
       "      <td>20.0</td>\n",
       "    </tr>\n",
       "    <tr>\n",
       "      <th>2017-01-31 22:00:00</th>\n",
       "      <td>720</td>\n",
       "      <td>t+1</td>\n",
       "      <td>31.986808</td>\n",
       "      <td>15.0</td>\n",
       "    </tr>\n",
       "    <tr>\n",
       "      <th>2017-01-31 23:00:00</th>\n",
       "      <td>721</td>\n",
       "      <td>t+1</td>\n",
       "      <td>24.379860</td>\n",
       "      <td>61.0</td>\n",
       "    </tr>\n",
       "  </tbody>\n",
       "</table>\n",
       "<p>722 rows × 4 columns</p>\n",
       "</div>"
      ],
      "text/plain": [
       "                     Unnamed: 0    h  prediction  actual\n",
       "2017-01-01 22:00:00           0  t+1   36.654627    38.0\n",
       "2017-01-01 23:00:00           1  t+1   29.864814    24.0\n",
       "2017-01-02 00:00:00           2  t+1   32.065574    23.0\n",
       "2017-01-02 01:00:00           3  t+1   31.575773    19.0\n",
       "2017-01-02 02:00:00           4  t+1   28.157151    14.0\n",
       "...                         ...  ...         ...     ...\n",
       "2017-01-31 19:00:00         717  t+1   37.968033    30.0\n",
       "2017-01-31 20:00:00         718  t+1   28.054403    25.0\n",
       "2017-01-31 21:00:00         719  t+1   21.291871    20.0\n",
       "2017-01-31 22:00:00         720  t+1   31.986808    15.0\n",
       "2017-01-31 23:00:00         721  t+1   24.379860    61.0\n",
       "\n",
       "[722 rows x 4 columns]"
      ]
     },
     "execution_count": 94,
     "metadata": {},
     "output_type": "execute_result"
    }
   ],
   "source": [
    "crimes=crimes2[(crimes2.index.month >= 1) & (crimes2.index.month <= 1)]\n",
    "crimes"
   ]
  },
  {
   "cell_type": "code",
   "execution_count": 95,
   "id": "civic-david",
   "metadata": {},
   "outputs": [
    {
     "name": "stdout",
     "output_type": "stream",
     "text": [
      "                actual\n",
      "2017 00:00:00   8047.0\n",
      "2017 01:00:00   6776.0\n",
      "2017 02:00:00   5615.0\n",
      "2017 03:00:00   4962.0\n",
      "2017 04:00:00   3834.0\n",
      "2017 05:00:00   4253.0\n",
      "2017 06:00:00   6695.0\n",
      "2017 07:00:00  10725.0\n",
      "2017 08:00:00  11830.0\n",
      "2017 09:00:00  12633.0\n",
      "2017 10:00:00  12983.0\n",
      "2017 11:00:00  17722.0\n",
      "2017 12:00:00  15001.0\n",
      "2017 13:00:00  16870.0\n",
      "2017 14:00:00  18197.0\n",
      "2017 15:00:00  17512.0\n",
      "2017 16:00:00  18082.0\n",
      "2017 17:00:00  17989.0\n",
      "2017 18:00:00  16410.0\n",
      "2017 19:00:00  15757.0\n",
      "2017 20:00:00  13642.0\n",
      "2017 21:00:00  12420.0\n",
      "2017 22:00:00  11095.0\n",
      "2017 23:00:00  12681.0\n"
     ]
    }
   ],
   "source": [
    "a = crimes2.index.to_period('Y')\n",
    "b = crimes2.index.hour\n",
    "df1 = crimes2.groupby([a,b])[['actual']].sum()\n",
    "#http://stackoverflow.com/questions/17118071/python-add-leading-zeroes-using-str-format \n",
    "df1.index = df1.index.map(lambda x: '{0[0]} {0[1]:0>2}:00:00'.format(x))\n",
    "print (df1)"
   ]
  },
  {
   "cell_type": "code",
   "execution_count": 96,
   "id": "tight-valley",
   "metadata": {},
   "outputs": [
    {
     "name": "stdout",
     "output_type": "stream",
     "text": [
      "                 prediction\n",
      "2017 00:00:00  10769.843119\n",
      "2017 01:00:00  10438.822916\n",
      "2017 02:00:00   9342.458507\n",
      "2017 03:00:00   8734.841152\n",
      "2017 04:00:00   8751.845095\n",
      "2017 05:00:00   7779.299670\n",
      "2017 06:00:00   7591.706877\n",
      "2017 07:00:00   7294.817137\n",
      "2017 08:00:00   8269.447592\n",
      "2017 09:00:00   9250.213141\n",
      "2017 10:00:00  12693.662726\n",
      "2017 11:00:00  11165.925147\n",
      "2017 12:00:00  13378.878167\n",
      "2017 13:00:00  14679.575158\n",
      "2017 14:00:00  15886.460893\n",
      "2017 15:00:00  14078.704474\n",
      "2017 16:00:00  13450.723018\n",
      "2017 17:00:00  17833.532361\n",
      "2017 18:00:00  20714.839849\n",
      "2017 19:00:00  15315.805382\n",
      "2017 20:00:00  12466.771708\n",
      "2017 21:00:00  10182.044369\n",
      "2017 22:00:00  12953.690368\n",
      "2017 23:00:00   9668.382515\n"
     ]
    }
   ],
   "source": [
    "a = crimes2.index.to_period('Y')\n",
    "b = crimes2.index.hour\n",
    "df2 = crimes2.groupby([a,b])[['prediction']].sum()\n",
    "#http://stackoverflow.com/questions/17118071/python-add-leading-zeroes-using-str-format \n",
    "df2.index = df2.index.map(lambda x: '{0[0]} {0[1]:0>2}:00:00'.format(x))\n",
    "print (df2)"
   ]
  },
  {
   "cell_type": "code",
   "execution_count": 97,
   "id": "lucky-qualification",
   "metadata": {},
   "outputs": [],
   "source": [
    "df3 = crimes.groupby(crimes.index.strftime('%Y-%m %H:%M:%S'))[['actual']].sum()\n",
    "df4 = crimes.groupby(crimes.index.strftime('%Y-%m %H:%M:%S'))[['prediction']].sum()"
   ]
  },
  {
   "cell_type": "code",
   "execution_count": 98,
   "id": "corrected-carroll",
   "metadata": {},
   "outputs": [
    {
     "data": {
      "text/plain": [
       "<AxesSubplot:>"
      ]
     },
     "execution_count": 98,
     "metadata": {},
     "output_type": "execute_result"
    },
    {
     "data": {
      "image/png": "[encoded data removed]",
      "text/plain": [
       "<Figure size 1152x432 with 1 Axes>"
      ]
     },
     "metadata": {
      "needs_background": "light"
     },
     "output_type": "display_data"
    },
    {
     "data": {
      "image/png": "[encoded data removed]",
      "text/plain": [
       "<Figure size 1152x432 with 1 Axes>"
      ]
     },
     "metadata": {
      "needs_background": "light"
     },
     "output_type": "display_data"
    }
   ],
   "source": [
    "df1.plot(kind='bar',figsize=[16,6])\n",
    "df2.plot(kind='bar',figsize=[16,6])"
   ]
  },
  {
   "cell_type": "code",
   "execution_count": 99,
   "id": "assured-store",
   "metadata": {},
   "outputs": [
    {
     "data": {
      "text/html": [
       "<div>\n",
       "<style scoped>\n",
       "    .dataframe tbody tr th:only-of-type {\n",
       "        vertical-align: middle;\n",
       "    }\n",
       "\n",
       "    .dataframe tbody tr th {\n",
       "        vertical-align: top;\n",
       "    }\n",
       "\n",
       "    .dataframe thead th {\n",
       "        text-align: right;\n",
       "    }\n",
       "</style>\n",
       "<table border=\"1\" class=\"dataframe\">\n",
       "  <thead>\n",
       "    <tr style=\"text-align: right;\">\n",
       "      <th></th>\n",
       "      <th>actual</th>\n",
       "    </tr>\n",
       "  </thead>\n",
       "  <tbody>\n",
       "    <tr>\n",
       "      <th>2017 00:00:00</th>\n",
       "      <td>8047.0</td>\n",
       "    </tr>\n",
       "    <tr>\n",
       "      <th>2017 01:00:00</th>\n",
       "      <td>6776.0</td>\n",
       "    </tr>\n",
       "    <tr>\n",
       "      <th>2017 02:00:00</th>\n",
       "      <td>5615.0</td>\n",
       "    </tr>\n",
       "    <tr>\n",
       "      <th>2017 03:00:00</th>\n",
       "      <td>4962.0</td>\n",
       "    </tr>\n",
       "    <tr>\n",
       "      <th>2017 04:00:00</th>\n",
       "      <td>3834.0</td>\n",
       "    </tr>\n",
       "    <tr>\n",
       "      <th>2017 05:00:00</th>\n",
       "      <td>4253.0</td>\n",
       "    </tr>\n",
       "    <tr>\n",
       "      <th>2017 06:00:00</th>\n",
       "      <td>6695.0</td>\n",
       "    </tr>\n",
       "    <tr>\n",
       "      <th>2017 07:00:00</th>\n",
       "      <td>10725.0</td>\n",
       "    </tr>\n",
       "    <tr>\n",
       "      <th>2017 08:00:00</th>\n",
       "      <td>11830.0</td>\n",
       "    </tr>\n",
       "    <tr>\n",
       "      <th>2017 09:00:00</th>\n",
       "      <td>12633.0</td>\n",
       "    </tr>\n",
       "    <tr>\n",
       "      <th>2017 10:00:00</th>\n",
       "      <td>12983.0</td>\n",
       "    </tr>\n",
       "    <tr>\n",
       "      <th>2017 11:00:00</th>\n",
       "      <td>17722.0</td>\n",
       "    </tr>\n",
       "    <tr>\n",
       "      <th>2017 12:00:00</th>\n",
       "      <td>15001.0</td>\n",
       "    </tr>\n",
       "    <tr>\n",
       "      <th>2017 13:00:00</th>\n",
       "      <td>16870.0</td>\n",
       "    </tr>\n",
       "    <tr>\n",
       "      <th>2017 14:00:00</th>\n",
       "      <td>18197.0</td>\n",
       "    </tr>\n",
       "    <tr>\n",
       "      <th>2017 15:00:00</th>\n",
       "      <td>17512.0</td>\n",
       "    </tr>\n",
       "    <tr>\n",
       "      <th>2017 16:00:00</th>\n",
       "      <td>18082.0</td>\n",
       "    </tr>\n",
       "    <tr>\n",
       "      <th>2017 17:00:00</th>\n",
       "      <td>17989.0</td>\n",
       "    </tr>\n",
       "    <tr>\n",
       "      <th>2017 18:00:00</th>\n",
       "      <td>16410.0</td>\n",
       "    </tr>\n",
       "    <tr>\n",
       "      <th>2017 19:00:00</th>\n",
       "      <td>15757.0</td>\n",
       "    </tr>\n",
       "    <tr>\n",
       "      <th>2017 20:00:00</th>\n",
       "      <td>13642.0</td>\n",
       "    </tr>\n",
       "    <tr>\n",
       "      <th>2017 21:00:00</th>\n",
       "      <td>12420.0</td>\n",
       "    </tr>\n",
       "    <tr>\n",
       "      <th>2017 22:00:00</th>\n",
       "      <td>11095.0</td>\n",
       "    </tr>\n",
       "    <tr>\n",
       "      <th>2017 23:00:00</th>\n",
       "      <td>12681.0</td>\n",
       "    </tr>\n",
       "  </tbody>\n",
       "</table>\n",
       "</div>"
      ],
      "text/plain": [
       "                actual\n",
       "2017 00:00:00   8047.0\n",
       "2017 01:00:00   6776.0\n",
       "2017 02:00:00   5615.0\n",
       "2017 03:00:00   4962.0\n",
       "2017 04:00:00   3834.0\n",
       "2017 05:00:00   4253.0\n",
       "2017 06:00:00   6695.0\n",
       "2017 07:00:00  10725.0\n",
       "2017 08:00:00  11830.0\n",
       "2017 09:00:00  12633.0\n",
       "2017 10:00:00  12983.0\n",
       "2017 11:00:00  17722.0\n",
       "2017 12:00:00  15001.0\n",
       "2017 13:00:00  16870.0\n",
       "2017 14:00:00  18197.0\n",
       "2017 15:00:00  17512.0\n",
       "2017 16:00:00  18082.0\n",
       "2017 17:00:00  17989.0\n",
       "2017 18:00:00  16410.0\n",
       "2017 19:00:00  15757.0\n",
       "2017 20:00:00  13642.0\n",
       "2017 21:00:00  12420.0\n",
       "2017 22:00:00  11095.0\n",
       "2017 23:00:00  12681.0"
      ]
     },
     "execution_count": 99,
     "metadata": {},
     "output_type": "execute_result"
    }
   ],
   "source": [
    "df1"
   ]
  },
  {
   "cell_type": "code",
   "execution_count": 100,
   "id": "anonymous-toolbox",
   "metadata": {},
   "outputs": [
    {
     "data": {
      "text/plain": [
       "Text(0, 0.5, 'Pies Consumed')"
      ]
     },
     "execution_count": 100,
     "metadata": {},
     "output_type": "execute_result"
    },
    {
     "data": {
      "image/png": "[encoded data removed]",
      "text/plain": [
       "<Figure size 432x288 with 1 Axes>"
      ]
     },
     "metadata": {
      "needs_background": "light"
     },
     "output_type": "display_data"
    }
   ],
   "source": [
    "plotdata = pd.DataFrame({\n",
    "    \"actual\":df1['actual'],\n",
    "    \"prediction\":df2['prediction'],\n",
    "    \n",
    "    }, \n",
    "    index=df1.index\n",
    ")\n",
    "plotdata.plot(kind=\"bar\")\n",
    "plt.title(\"Mince Pie Consumption Study\")\n",
    "plt.xlabel(\"Family Member\")\n",
    "plt.ylabel(\"Pies Consumed\")"
   ]
  },
  {
   "cell_type": "code",
   "execution_count": 101,
   "id": "broad-essay",
   "metadata": {},
   "outputs": [
    {
     "data": {
      "text/plain": [
       "Text(0, 0.5, 'Pies Consumed')"
      ]
     },
     "execution_count": 101,
     "metadata": {},
     "output_type": "execute_result"
    },
    {
     "data": {
      "image/png": "[encoded data removed]",
      "text/plain": [
       "<Figure size 432x288 with 1 Axes>"
      ]
     },
     "metadata": {
      "needs_background": "light"
     },
     "output_type": "display_data"
    }
   ],
   "source": [
    "plotdata = pd.DataFrame({\n",
    "    \"actual\":df3['actual'],\n",
    "    \"prediction\":df4['prediction'],\n",
    "    \n",
    "    }, \n",
    "    index=df3.index\n",
    ")\n",
    "plotdata.plot(kind=\"bar\")\n",
    "plt.title(\"Mince Pie Consumption Study\")\n",
    "plt.xlabel(\"Family Member\")\n",
    "plt.ylabel(\"Pies Consumed\")"
   ]
  },
  {
   "cell_type": "code",
   "execution_count": 72,
   "id": "frozen-occasion",
   "metadata": {},
   "outputs": [
    {
     "name": "stdout",
     "output_type": "stream",
     "text": [
      "                 prediction\n",
      "2017 00:00:00  10769.843119\n",
      "2017 01:00:00  10438.822916\n",
      "2017 02:00:00   9342.458507\n",
      "2017 03:00:00   8734.841152\n",
      "2017 04:00:00   8751.845095\n",
      "2017 05:00:00   7779.299670\n",
      "2017 06:00:00   7591.706877\n",
      "2017 07:00:00   7294.817137\n",
      "2017 08:00:00   8269.447592\n",
      "2017 09:00:00   9250.213141\n",
      "2017 10:00:00  12693.662726\n",
      "2017 11:00:00  11165.925147\n",
      "2017 12:00:00  13378.878167\n",
      "2017 13:00:00  14679.575158\n",
      "2017 14:00:00  15886.460893\n",
      "2017 15:00:00  14078.704474\n",
      "2017 16:00:00  13450.723018\n",
      "2017 17:00:00  17833.532361\n",
      "2017 18:00:00  20714.839849\n",
      "2017 19:00:00  15315.805382\n",
      "2017 20:00:00  12466.771708\n",
      "2017 21:00:00  10182.044369\n",
      "2017 22:00:00  12953.690368\n",
      "2017 23:00:00   9668.382515\n"
     ]
    }
   ],
   "source": [
    "a = crimes2.index.to_period('Y')\n",
    "b = crimes2.index.hour\n",
    "df1 = crimes2.groupby([a,b])[['prediction']].sum()\n",
    "#http://stackoverflow.com/questions/17118071/python-add-leading-zeroes-using-str-format \n",
    "df1.index = df1.index.map(lambda x: '{0[0]} {0[1]:0>2}:00:00'.format(x))\n",
    "print (df1)"
   ]
  },
  {
   "cell_type": "code",
   "execution_count": 19,
   "id": "special-pocket",
   "metadata": {},
   "outputs": [],
   "source": [
    "crimes2['timestamp'] = pd.to_datetime(crimes2['timestamp'], format='%y/%m/%d H:%M:%S', infer_datetime_format=True)\n",
    "crimes1['timestamp'] = pd.to_datetime(crimes1['timestamp'], format='%y/%m/%d H:%M:%S', infer_datetime_format=True)"
   ]
  },
  {
   "cell_type": "code",
   "execution_count": 9,
   "id": "relevant-divorce",
   "metadata": {},
   "outputs": [
    {
     "data": {
      "text/plain": [
       "0       22\n",
       "1       23\n",
       "2        0\n",
       "3        1\n",
       "4        2\n",
       "        ..\n",
       "8683    17\n",
       "8684    18\n",
       "8685    19\n",
       "8686    20\n",
       "8687    21\n",
       "Name: timestamp, Length: 8688, dtype: int64"
      ]
     },
     "execution_count": 9,
     "metadata": {},
     "output_type": "execute_result"
    }
   ],
   "source": [
    "crimes2['timestamp'].dt.hour"
   ]
  },
  {
   "cell_type": "code",
   "execution_count": 39,
   "id": "upset-bride",
   "metadata": {},
   "outputs": [
    {
     "data": {
      "text/plain": [
       "array([22, 23,  0,  1,  2,  3,  4,  5,  6,  7,  8,  9, 10, 11, 12, 13, 14,\n",
       "       15, 16, 17, 18, 19, 20, 21], dtype=int64)"
      ]
     },
     "execution_count": 39,
     "metadata": {},
     "output_type": "execute_result"
    },
    {
     "data": {
      "image/png": "[encoded data removed]",
      "text/plain": [
       "<Figure size 1152x432 with 1 Axes>"
      ]
     },
     "metadata": {
      "needs_background": "light"
     },
     "output_type": "display_data"
    }
   ],
   "source": [
    "NoOfYear=crimes2.groupby(crimes2['timestamp'].dt.hour)['actual'].agg('count')\n",
    "NoOfYear.plot(kind='bar',figsize=[16,6])\n",
    "boro_cries = crimes2['timestamp'].dt.hour.unique()\n",
    "boro_cries"
   ]
  },
  {
   "cell_type": "code",
   "execution_count": 30,
   "id": "casual-maria",
   "metadata": {},
   "outputs": [
    {
     "data": {
      "text/html": [
       "<div>\n",
       "<style scoped>\n",
       "    .dataframe tbody tr th:only-of-type {\n",
       "        vertical-align: middle;\n",
       "    }\n",
       "\n",
       "    .dataframe tbody tr th {\n",
       "        vertical-align: top;\n",
       "    }\n",
       "\n",
       "    .dataframe thead th {\n",
       "        text-align: right;\n",
       "    }\n",
       "</style>\n",
       "<table border=\"1\" class=\"dataframe\">\n",
       "  <thead>\n",
       "    <tr style=\"text-align: right;\">\n",
       "      <th></th>\n",
       "      <th>timestamp</th>\n",
       "      <th>Unnamed: 0</th>\n",
       "      <th>h</th>\n",
       "      <th>prediction</th>\n",
       "      <th>actual</th>\n",
       "    </tr>\n",
       "  </thead>\n",
       "  <tbody>\n",
       "    <tr>\n",
       "      <th>0</th>\n",
       "      <td>2017-01-01 22:00:00</td>\n",
       "      <td>1</td>\n",
       "      <td>1</td>\n",
       "      <td>1</td>\n",
       "      <td>1</td>\n",
       "    </tr>\n",
       "    <tr>\n",
       "      <th>1</th>\n",
       "      <td>2017-01-01 23:00:00</td>\n",
       "      <td>1</td>\n",
       "      <td>1</td>\n",
       "      <td>1</td>\n",
       "      <td>1</td>\n",
       "    </tr>\n",
       "    <tr>\n",
       "      <th>2</th>\n",
       "      <td>2017-01-02 00:00:00</td>\n",
       "      <td>1</td>\n",
       "      <td>1</td>\n",
       "      <td>1</td>\n",
       "      <td>1</td>\n",
       "    </tr>\n",
       "    <tr>\n",
       "      <th>3</th>\n",
       "      <td>2017-01-02 01:00:00</td>\n",
       "      <td>1</td>\n",
       "      <td>1</td>\n",
       "      <td>1</td>\n",
       "      <td>1</td>\n",
       "    </tr>\n",
       "    <tr>\n",
       "      <th>4</th>\n",
       "      <td>2017-01-02 02:00:00</td>\n",
       "      <td>1</td>\n",
       "      <td>1</td>\n",
       "      <td>1</td>\n",
       "      <td>1</td>\n",
       "    </tr>\n",
       "    <tr>\n",
       "      <th>...</th>\n",
       "      <td>...</td>\n",
       "      <td>...</td>\n",
       "      <td>...</td>\n",
       "      <td>...</td>\n",
       "      <td>...</td>\n",
       "    </tr>\n",
       "    <tr>\n",
       "      <th>8683</th>\n",
       "      <td>2017-12-29 17:00:00</td>\n",
       "      <td>1</td>\n",
       "      <td>1</td>\n",
       "      <td>1</td>\n",
       "      <td>1</td>\n",
       "    </tr>\n",
       "    <tr>\n",
       "      <th>8684</th>\n",
       "      <td>2017-12-29 18:00:00</td>\n",
       "      <td>1</td>\n",
       "      <td>1</td>\n",
       "      <td>1</td>\n",
       "      <td>1</td>\n",
       "    </tr>\n",
       "    <tr>\n",
       "      <th>8685</th>\n",
       "      <td>2017-12-29 19:00:00</td>\n",
       "      <td>1</td>\n",
       "      <td>1</td>\n",
       "      <td>1</td>\n",
       "      <td>1</td>\n",
       "    </tr>\n",
       "    <tr>\n",
       "      <th>8686</th>\n",
       "      <td>2017-12-29 20:00:00</td>\n",
       "      <td>1</td>\n",
       "      <td>1</td>\n",
       "      <td>1</td>\n",
       "      <td>1</td>\n",
       "    </tr>\n",
       "    <tr>\n",
       "      <th>8687</th>\n",
       "      <td>2017-12-29 21:00:00</td>\n",
       "      <td>1</td>\n",
       "      <td>1</td>\n",
       "      <td>1</td>\n",
       "      <td>1</td>\n",
       "    </tr>\n",
       "  </tbody>\n",
       "</table>\n",
       "<p>8688 rows × 5 columns</p>\n",
       "</div>"
      ],
      "text/plain": [
       "               timestamp  Unnamed: 0  h  prediction  actual\n",
       "0    2017-01-01 22:00:00           1  1           1       1\n",
       "1    2017-01-01 23:00:00           1  1           1       1\n",
       "2    2017-01-02 00:00:00           1  1           1       1\n",
       "3    2017-01-02 01:00:00           1  1           1       1\n",
       "4    2017-01-02 02:00:00           1  1           1       1\n",
       "...                  ...         ... ..         ...     ...\n",
       "8683 2017-12-29 17:00:00           1  1           1       1\n",
       "8684 2017-12-29 18:00:00           1  1           1       1\n",
       "8685 2017-12-29 19:00:00           1  1           1       1\n",
       "8686 2017-12-29 20:00:00           1  1           1       1\n",
       "8687 2017-12-29 21:00:00           1  1           1       1\n",
       "\n",
       "[8688 rows x 5 columns]"
      ]
     },
     "execution_count": 30,
     "metadata": {},
     "output_type": "execute_result"
    }
   ],
   "source": [
    "feb_TLC_Destination_starthour= crimes2.groupby(\n",
    "    ['timestamp']).count().reset_index()\n",
    "feb_TLC_Destination_starthour"
   ]
  },
  {
   "cell_type": "code",
   "execution_count": 35,
   "id": "continuing-greensboro",
   "metadata": {},
   "outputs": [
    {
     "data": {
      "text/html": [
       "<div>\n",
       "<style scoped>\n",
       "    .dataframe tbody tr th:only-of-type {\n",
       "        vertical-align: middle;\n",
       "    }\n",
       "\n",
       "    .dataframe tbody tr th {\n",
       "        vertical-align: top;\n",
       "    }\n",
       "\n",
       "    .dataframe thead th {\n",
       "        text-align: right;\n",
       "    }\n",
       "</style>\n",
       "<table border=\"1\" class=\"dataframe\">\n",
       "  <thead>\n",
       "    <tr style=\"text-align: right;\">\n",
       "      <th></th>\n",
       "      <th>timestamp</th>\n",
       "      <th>Unnamed: 0</th>\n",
       "      <th>h</th>\n",
       "      <th>prediction</th>\n",
       "      <th>actual</th>\n",
       "    </tr>\n",
       "  </thead>\n",
       "  <tbody>\n",
       "    <tr>\n",
       "      <th>0</th>\n",
       "      <td>2017-01-01 22:00:00</td>\n",
       "      <td>1</td>\n",
       "      <td>1</td>\n",
       "      <td>1</td>\n",
       "      <td>1</td>\n",
       "    </tr>\n",
       "    <tr>\n",
       "      <th>1</th>\n",
       "      <td>2017-01-01 23:00:00</td>\n",
       "      <td>1</td>\n",
       "      <td>1</td>\n",
       "      <td>1</td>\n",
       "      <td>1</td>\n",
       "    </tr>\n",
       "    <tr>\n",
       "      <th>2</th>\n",
       "      <td>2017-01-02 00:00:00</td>\n",
       "      <td>1</td>\n",
       "      <td>1</td>\n",
       "      <td>1</td>\n",
       "      <td>1</td>\n",
       "    </tr>\n",
       "    <tr>\n",
       "      <th>3</th>\n",
       "      <td>2017-01-02 01:00:00</td>\n",
       "      <td>1</td>\n",
       "      <td>1</td>\n",
       "      <td>1</td>\n",
       "      <td>1</td>\n",
       "    </tr>\n",
       "    <tr>\n",
       "      <th>4</th>\n",
       "      <td>2017-01-02 02:00:00</td>\n",
       "      <td>1</td>\n",
       "      <td>1</td>\n",
       "      <td>1</td>\n",
       "      <td>1</td>\n",
       "    </tr>\n",
       "    <tr>\n",
       "      <th>...</th>\n",
       "      <td>...</td>\n",
       "      <td>...</td>\n",
       "      <td>...</td>\n",
       "      <td>...</td>\n",
       "      <td>...</td>\n",
       "    </tr>\n",
       "    <tr>\n",
       "      <th>8683</th>\n",
       "      <td>2017-12-29 17:00:00</td>\n",
       "      <td>1</td>\n",
       "      <td>1</td>\n",
       "      <td>1</td>\n",
       "      <td>1</td>\n",
       "    </tr>\n",
       "    <tr>\n",
       "      <th>8684</th>\n",
       "      <td>2017-12-29 18:00:00</td>\n",
       "      <td>1</td>\n",
       "      <td>1</td>\n",
       "      <td>1</td>\n",
       "      <td>1</td>\n",
       "    </tr>\n",
       "    <tr>\n",
       "      <th>8685</th>\n",
       "      <td>2017-12-29 19:00:00</td>\n",
       "      <td>1</td>\n",
       "      <td>1</td>\n",
       "      <td>1</td>\n",
       "      <td>1</td>\n",
       "    </tr>\n",
       "    <tr>\n",
       "      <th>8686</th>\n",
       "      <td>2017-12-29 20:00:00</td>\n",
       "      <td>1</td>\n",
       "      <td>1</td>\n",
       "      <td>1</td>\n",
       "      <td>1</td>\n",
       "    </tr>\n",
       "    <tr>\n",
       "      <th>8687</th>\n",
       "      <td>2017-12-29 21:00:00</td>\n",
       "      <td>1</td>\n",
       "      <td>1</td>\n",
       "      <td>1</td>\n",
       "      <td>1</td>\n",
       "    </tr>\n",
       "  </tbody>\n",
       "</table>\n",
       "<p>8688 rows × 5 columns</p>\n",
       "</div>"
      ],
      "text/plain": [
       "               timestamp  Unnamed: 0  h  prediction  actual\n",
       "0    2017-01-01 22:00:00           1  1           1       1\n",
       "1    2017-01-01 23:00:00           1  1           1       1\n",
       "2    2017-01-02 00:00:00           1  1           1       1\n",
       "3    2017-01-02 01:00:00           1  1           1       1\n",
       "4    2017-01-02 02:00:00           1  1           1       1\n",
       "...                  ...         ... ..         ...     ...\n",
       "8683 2017-12-29 17:00:00           1  1           1       1\n",
       "8684 2017-12-29 18:00:00           1  1           1       1\n",
       "8685 2017-12-29 19:00:00           1  1           1       1\n",
       "8686 2017-12-29 20:00:00           1  1           1       1\n",
       "8687 2017-12-29 21:00:00           1  1           1       1\n",
       "\n",
       "[8688 rows x 5 columns]"
      ]
     },
     "execution_count": 35,
     "metadata": {},
     "output_type": "execute_result"
    }
   ],
   "source": [
    "##Origin (Arriving Pax)\n",
    "#Groupby Day of Week\n",
    "feb_TLC_Origin_weekday=( crimes2\n",
    "    .groupby(\n",
    "    ['timestamp']).count().reset_index()\n",
    "    .sort_values('timestamp', ascending=True)\n",
    ")\n",
    "feb_TLC_Origin_weekday"
   ]
  },
  {
   "cell_type": "code",
   "execution_count": 24,
   "id": "demonstrated-nancy",
   "metadata": {},
   "outputs": [
    {
     "data": {
      "text/plain": [
       "timestamp\n",
       "0     362\n",
       "1     362\n",
       "2     362\n",
       "3     362\n",
       "4     362\n",
       "5     362\n",
       "6     362\n",
       "7     362\n",
       "8     362\n",
       "9     362\n",
       "10    362\n",
       "11    362\n",
       "12    362\n",
       "13    362\n",
       "14    362\n",
       "15    362\n",
       "16    362\n",
       "17    362\n",
       "18    362\n",
       "19    362\n",
       "20    362\n",
       "21    362\n",
       "22    362\n",
       "23    362\n",
       "Name: actual, dtype: int64"
      ]
     },
     "execution_count": 24,
     "metadata": {},
     "output_type": "execute_result"
    }
   ],
   "source": [
    "NoOfYear"
   ]
  },
  {
   "cell_type": "code",
   "execution_count": 21,
   "id": "identical-silver",
   "metadata": {},
   "outputs": [
    {
     "data": {
      "text/plain": [
       "<AxesSubplot:xlabel='timestamp'>"
      ]
     },
     "execution_count": 21,
     "metadata": {},
     "output_type": "execute_result"
    },
    {
     "data": {
      "image/png": "[encoded data removed]",
      "text/plain": [
       "<Figure size 1152x432 with 1 Axes>"
      ]
     },
     "metadata": {
      "needs_background": "light"
     },
     "output_type": "display_data"
    }
   ],
   "source": [
    "NoOfYear=crimes1.groupby(crimes1['timestamp'].dt.hour)['timestamp'].agg('count')\n",
    "NoOfYear.plot(kind='bar',figsize=[16,6])"
   ]
  },
  {
   "cell_type": "code",
   "execution_count": null,
   "id": "biblical-cutting",
   "metadata": {},
   "outputs": [],
   "source": []
  }
 ],
 "metadata": {
  "kernelspec": {
   "display_name": "Python 3",
   "language": "python",
   "name": "python3"
  },
  "language_info": {
   "codemirror_mode": {
    "name": "ipython",
    "version": 3
   },
   "file_extension": ".py",
   "mimetype": "text/x-python",
   "name": "python",
   "nbconvert_exporter": "python",
   "pygments_lexer": "ipython3",
   "version": "3.7.10"
  }
 },
 "nbformat": 4,
 "nbformat_minor": 5
}
