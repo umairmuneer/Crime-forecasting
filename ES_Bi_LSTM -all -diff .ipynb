{
 "cells": [
  {
   "cell_type": "markdown",
   "metadata": {},
   "source": [
    "# ES-RNN model \n",
    "\n"
   ]
  },
  {
   "cell_type": "code",
   "execution_count": 2,
   "metadata": {
    "scrolled": true
   },
   "outputs": [],
   "source": [
    "import os\n",
    "import warnings\n",
    "import matplotlib.pyplot as plt\n",
    "import numpy as np\n",
    "import pandas as pd\n",
    "import datetime as dt\n",
    "from collections import UserDict, deque\n",
    "from IPython.display import Image\n",
    "import time\n",
    "from sklearn.metrics import mean_squared_error,mean_absolute_error,mean_absolute_percentage_error #mean_absolute_percentage_error\n",
    "%matplotlib inline\n",
    "\n",
    "from common.utils import load_data, mape, TimeSeriesTensor, create_evaluation_df\n",
    "\n",
    "pd.options.display.float_format = '{:,.2f}'.format\n",
    "np.set_printoptions(precision=2)\n",
    "warnings.filterwarnings(\"ignore\")"
   ]
  },
  {
   "cell_type": "code",
   "execution_count": 2,
   "metadata": {},
   "outputs": [],
   "source": [
    "#data crime all loc/nozero','energyall.csv"
   ]
  },
  {
   "cell_type": "markdown",
   "metadata": {},
   "source": [
    "Load data into Pandas dataframe"
   ]
  },
  {
   "cell_type": "code",
   "execution_count": 3,
   "metadata": {},
   "outputs": [],
   "source": [
    "filee='allgood'\n",
    "path='./data1/'"
   ]
  },
  {
   "cell_type": "code",
   "execution_count": 4,
   "metadata": {
    "scrolled": true
   },
   "outputs": [
    {
     "data": {
      "text/html": [
       "<div>\n",
       "<style scoped>\n",
       "    .dataframe tbody tr th:only-of-type {\n",
       "        vertical-align: middle;\n",
       "    }\n",
       "\n",
       "    .dataframe tbody tr th {\n",
       "        vertical-align: top;\n",
       "    }\n",
       "\n",
       "    .dataframe thead th {\n",
       "        text-align: right;\n",
       "    }\n",
       "</style>\n",
       "<table border=\"1\" class=\"dataframe\">\n",
       "  <thead>\n",
       "    <tr style=\"text-align: right;\">\n",
       "      <th></th>\n",
       "      <th>Unnamed: 0</th>\n",
       "      <th>load</th>\n",
       "      <th>crime1</th>\n",
       "      <th>crime2</th>\n",
       "      <th>crime3</th>\n",
       "      <th>crime4</th>\n",
       "      <th>crime5</th>\n",
       "    </tr>\n",
       "  </thead>\n",
       "  <tbody>\n",
       "    <tr>\n",
       "      <th>2006-01-01 00:00:00</th>\n",
       "      <td>0</td>\n",
       "      <td>161</td>\n",
       "      <td>19</td>\n",
       "      <td>26</td>\n",
       "      <td>15</td>\n",
       "      <td>45</td>\n",
       "      <td>56</td>\n",
       "    </tr>\n",
       "    <tr>\n",
       "      <th>2006-01-01 01:00:00</th>\n",
       "      <td>1</td>\n",
       "      <td>72</td>\n",
       "      <td>21</td>\n",
       "      <td>9</td>\n",
       "      <td>16</td>\n",
       "      <td>15</td>\n",
       "      <td>11</td>\n",
       "    </tr>\n",
       "    <tr>\n",
       "      <th>2006-01-01 02:00:00</th>\n",
       "      <td>2</td>\n",
       "      <td>54</td>\n",
       "      <td>13</td>\n",
       "      <td>6</td>\n",
       "      <td>15</td>\n",
       "      <td>10</td>\n",
       "      <td>10</td>\n",
       "    </tr>\n",
       "    <tr>\n",
       "      <th>2006-01-01 03:00:00</th>\n",
       "      <td>3</td>\n",
       "      <td>47</td>\n",
       "      <td>9</td>\n",
       "      <td>7</td>\n",
       "      <td>18</td>\n",
       "      <td>9</td>\n",
       "      <td>4</td>\n",
       "    </tr>\n",
       "    <tr>\n",
       "      <th>2006-01-01 04:00:00</th>\n",
       "      <td>4</td>\n",
       "      <td>52</td>\n",
       "      <td>7</td>\n",
       "      <td>10</td>\n",
       "      <td>20</td>\n",
       "      <td>12</td>\n",
       "      <td>3</td>\n",
       "    </tr>\n",
       "  </tbody>\n",
       "</table>\n",
       "</div>"
      ],
      "text/plain": [
       "                     Unnamed: 0  load  crime1  crime2  crime3  crime4  crime5\n",
       "2006-01-01 00:00:00           0   161      19      26      15      45      56\n",
       "2006-01-01 01:00:00           1    72      21       9      16      15      11\n",
       "2006-01-01 02:00:00           2    54      13       6      15      10      10\n",
       "2006-01-01 03:00:00           3    47       9       7      18       9       4\n",
       "2006-01-01 04:00:00           4    52       7      10      20      12       3"
      ]
     },
     "execution_count": 4,
     "metadata": {},
     "output_type": "execute_result"
    }
   ],
   "source": [
    "energy1 = load_data('D:/dataset type of crime new/new no wrong/',filee+'.csv')\n",
    "energy1.head()"
   ]
  },
  {
   "cell_type": "code",
   "execution_count": 5,
   "metadata": {},
   "outputs": [],
   "source": [
    "year0=2010\n",
    "year=str(year0)\n",
    "year3=str(year0+3)\n",
    "year2=str(year0+4)\n",
    "valid_start_dt = year3+'-08-29 23:11:00'\n",
    "test_start_dt = year2+'-01-01 11:00:00'\n",
    "test_end_dt = year2+'-12-30 18:00:00'\n",
    "T = 18\n",
    "HORIZON = 1"
   ]
  },
  {
   "cell_type": "code",
   "execution_count": 6,
   "metadata": {},
   "outputs": [],
   "source": [
    "energy1 = energy1.copy()[energy1.index >= year+'-01-1 00:00:00'][['load', 'crime1','crime2','crime3','crime4','crime5']]\n",
    "energy1=energy1.copy()[energy1.index <= test_end_dt][['load', 'crime1','crime2','crime3','crime4','crime5']]"
   ]
  },
  {
   "cell_type": "code",
   "execution_count": 7,
   "metadata": {},
   "outputs": [],
   "source": [
    "energy1=energy1.copy()[energy1.index <= test_end_dt][['load', 'crime1','crime2','crime3','crime4','crime5']]"
   ]
  },
  {
   "cell_type": "code",
   "execution_count": 8,
   "metadata": {},
   "outputs": [],
   "source": [
    "energy=energy1.copy()\n",
    "energy0=energy1.copy()"
   ]
  },
  {
   "cell_type": "code",
   "execution_count": 9,
   "metadata": {},
   "outputs": [
    {
     "data": {
      "text/html": [
       "<div>\n",
       "<style scoped>\n",
       "    .dataframe tbody tr th:only-of-type {\n",
       "        vertical-align: middle;\n",
       "    }\n",
       "\n",
       "    .dataframe tbody tr th {\n",
       "        vertical-align: top;\n",
       "    }\n",
       "\n",
       "    .dataframe thead th {\n",
       "        text-align: right;\n",
       "    }\n",
       "</style>\n",
       "<table border=\"1\" class=\"dataframe\">\n",
       "  <thead>\n",
       "    <tr style=\"text-align: right;\">\n",
       "      <th></th>\n",
       "      <th>load</th>\n",
       "      <th>crime1</th>\n",
       "      <th>crime2</th>\n",
       "      <th>crime3</th>\n",
       "      <th>crime4</th>\n",
       "      <th>crime5</th>\n",
       "    </tr>\n",
       "  </thead>\n",
       "  <tbody>\n",
       "    <tr>\n",
       "      <th>2010-01-01 00:00:00</th>\n",
       "      <td>256</td>\n",
       "      <td>12</td>\n",
       "      <td>14</td>\n",
       "      <td>16</td>\n",
       "      <td>180</td>\n",
       "      <td>34</td>\n",
       "    </tr>\n",
       "    <tr>\n",
       "      <th>2010-01-01 01:00:00</th>\n",
       "      <td>81</td>\n",
       "      <td>13</td>\n",
       "      <td>8</td>\n",
       "      <td>20</td>\n",
       "      <td>26</td>\n",
       "      <td>14</td>\n",
       "    </tr>\n",
       "    <tr>\n",
       "      <th>2010-01-01 02:00:00</th>\n",
       "      <td>59</td>\n",
       "      <td>7</td>\n",
       "      <td>12</td>\n",
       "      <td>28</td>\n",
       "      <td>5</td>\n",
       "      <td>7</td>\n",
       "    </tr>\n",
       "    <tr>\n",
       "      <th>2010-01-01 03:00:00</th>\n",
       "      <td>63</td>\n",
       "      <td>9</td>\n",
       "      <td>6</td>\n",
       "      <td>29</td>\n",
       "      <td>14</td>\n",
       "      <td>5</td>\n",
       "    </tr>\n",
       "    <tr>\n",
       "      <th>2010-01-01 04:00:00</th>\n",
       "      <td>67</td>\n",
       "      <td>5</td>\n",
       "      <td>13</td>\n",
       "      <td>28</td>\n",
       "      <td>18</td>\n",
       "      <td>3</td>\n",
       "    </tr>\n",
       "    <tr>\n",
       "      <th>2010-01-01 05:00:00</th>\n",
       "      <td>36</td>\n",
       "      <td>1</td>\n",
       "      <td>5</td>\n",
       "      <td>22</td>\n",
       "      <td>7</td>\n",
       "      <td>1</td>\n",
       "    </tr>\n",
       "    <tr>\n",
       "      <th>2010-01-01 06:00:00</th>\n",
       "      <td>26</td>\n",
       "      <td>2</td>\n",
       "      <td>2</td>\n",
       "      <td>16</td>\n",
       "      <td>6</td>\n",
       "      <td>0</td>\n",
       "    </tr>\n",
       "    <tr>\n",
       "      <th>2010-01-01 07:00:00</th>\n",
       "      <td>30</td>\n",
       "      <td>4</td>\n",
       "      <td>5</td>\n",
       "      <td>12</td>\n",
       "      <td>9</td>\n",
       "      <td>0</td>\n",
       "    </tr>\n",
       "    <tr>\n",
       "      <th>2010-01-01 08:00:00</th>\n",
       "      <td>49</td>\n",
       "      <td>8</td>\n",
       "      <td>6</td>\n",
       "      <td>11</td>\n",
       "      <td>17</td>\n",
       "      <td>7</td>\n",
       "    </tr>\n",
       "    <tr>\n",
       "      <th>2010-01-01 09:00:00</th>\n",
       "      <td>41</td>\n",
       "      <td>8</td>\n",
       "      <td>10</td>\n",
       "      <td>8</td>\n",
       "      <td>6</td>\n",
       "      <td>9</td>\n",
       "    </tr>\n",
       "  </tbody>\n",
       "</table>\n",
       "</div>"
      ],
      "text/plain": [
       "                     load  crime1  crime2  crime3  crime4  crime5\n",
       "2010-01-01 00:00:00   256      12      14      16     180      34\n",
       "2010-01-01 01:00:00    81      13       8      20      26      14\n",
       "2010-01-01 02:00:00    59       7      12      28       5       7\n",
       "2010-01-01 03:00:00    63       9       6      29      14       5\n",
       "2010-01-01 04:00:00    67       5      13      28      18       3\n",
       "2010-01-01 05:00:00    36       1       5      22       7       1\n",
       "2010-01-01 06:00:00    26       2       2      16       6       0\n",
       "2010-01-01 07:00:00    30       4       5      12       9       0\n",
       "2010-01-01 08:00:00    49       8       6      11      17       7\n",
       "2010-01-01 09:00:00    41       8      10       8       6       9"
      ]
     },
     "execution_count": 9,
     "metadata": {},
     "output_type": "execute_result"
    }
   ],
   "source": [
    "energy0.head(10)"
   ]
  },
  {
   "cell_type": "code",
   "execution_count": 10,
   "metadata": {},
   "outputs": [
    {
     "data": {
      "image/png": "[encoded data removed]",
      "text/plain": [
       "<Figure size 1080x576 with 1 Axes>"
      ]
     },
     "metadata": {
      "needs_background": "light"
     },
     "output_type": "display_data"
    }
   ],
   "source": [
    "energy[energy.index < valid_start_dt][['load']].rename(columns={'load':'train'}) \\\n",
    "    .join(energy[(energy.index >=valid_start_dt) & (energy.index < test_start_dt)][['load']] \\\n",
    "          .rename(columns={'load':'validation'}), how='outer') \\\n",
    "    .join(energy[test_start_dt:test_end_dt][['load']].rename(columns={'load':'test'}), how='outer') \\\n",
    "    .plot(y=['train', 'validation', 'test'], figsize=(15, 8), fontsize=12)\n",
    "plt.xlabel('timestamp', fontsize=12)\n",
    "plt.ylabel('number of crime', fontsize=12)\n",
    "plt.show()"
   ]
  },
  {
   "cell_type": "code",
   "execution_count": 11,
   "metadata": {},
   "outputs": [],
   "source": [
    "energy1=energy.copy()[energy.index < test_start_dt][['load', 'crime1','crime2','crime3','crime4','crime5']]"
   ]
  },
  {
   "cell_type": "code",
   "execution_count": 12,
   "metadata": {},
   "outputs": [],
   "source": [
    "from sklearn.preprocessing import MinMaxScaler\n",
    "\n",
    "y_scaler = MinMaxScaler()\n",
    "y_scaler.fit(energy1[['load']])\n",
    "\n",
    "X_scaler = MinMaxScaler()\n",
    "energy1[['load', 'crime1','crime2','crime3','crime4','crime5']] = X_scaler.fit_transform(energy1)"
   ]
  },
  {
   "cell_type": "code",
   "execution_count": 13,
   "metadata": {},
   "outputs": [
    {
     "data": {
      "text/html": [
       "<div>\n",
       "<style scoped>\n",
       "    .dataframe tbody tr th:only-of-type {\n",
       "        vertical-align: middle;\n",
       "    }\n",
       "\n",
       "    .dataframe tbody tr th {\n",
       "        vertical-align: top;\n",
       "    }\n",
       "\n",
       "    .dataframe thead th {\n",
       "        text-align: right;\n",
       "    }\n",
       "</style>\n",
       "<table border=\"1\" class=\"dataframe\">\n",
       "  <thead>\n",
       "    <tr style=\"text-align: right;\">\n",
       "      <th></th>\n",
       "      <th>load</th>\n",
       "      <th>crime1</th>\n",
       "      <th>crime2</th>\n",
       "      <th>crime3</th>\n",
       "      <th>crime4</th>\n",
       "      <th>crime5</th>\n",
       "    </tr>\n",
       "  </thead>\n",
       "  <tbody>\n",
       "    <tr>\n",
       "      <th>2010-01-01 00:00:00</th>\n",
       "      <td>0.86</td>\n",
       "      <td>0.32</td>\n",
       "      <td>0.48</td>\n",
       "      <td>0.31</td>\n",
       "      <td>0.91</td>\n",
       "      <td>0.71</td>\n",
       "    </tr>\n",
       "    <tr>\n",
       "      <th>2010-01-01 01:00:00</th>\n",
       "      <td>0.27</td>\n",
       "      <td>0.35</td>\n",
       "      <td>0.28</td>\n",
       "      <td>0.39</td>\n",
       "      <td>0.13</td>\n",
       "      <td>0.29</td>\n",
       "    </tr>\n",
       "    <tr>\n",
       "      <th>2010-01-01 02:00:00</th>\n",
       "      <td>0.20</td>\n",
       "      <td>0.19</td>\n",
       "      <td>0.41</td>\n",
       "      <td>0.55</td>\n",
       "      <td>0.03</td>\n",
       "      <td>0.15</td>\n",
       "    </tr>\n",
       "    <tr>\n",
       "      <th>2010-01-01 03:00:00</th>\n",
       "      <td>0.21</td>\n",
       "      <td>0.24</td>\n",
       "      <td>0.21</td>\n",
       "      <td>0.57</td>\n",
       "      <td>0.07</td>\n",
       "      <td>0.10</td>\n",
       "    </tr>\n",
       "    <tr>\n",
       "      <th>2010-01-01 04:00:00</th>\n",
       "      <td>0.22</td>\n",
       "      <td>0.14</td>\n",
       "      <td>0.45</td>\n",
       "      <td>0.55</td>\n",
       "      <td>0.09</td>\n",
       "      <td>0.06</td>\n",
       "    </tr>\n",
       "    <tr>\n",
       "      <th>...</th>\n",
       "      <td>...</td>\n",
       "      <td>...</td>\n",
       "      <td>...</td>\n",
       "      <td>...</td>\n",
       "      <td>...</td>\n",
       "      <td>...</td>\n",
       "    </tr>\n",
       "    <tr>\n",
       "      <th>2014-01-01 06:00:00</th>\n",
       "      <td>0.10</td>\n",
       "      <td>0.05</td>\n",
       "      <td>0.07</td>\n",
       "      <td>0.37</td>\n",
       "      <td>0.03</td>\n",
       "      <td>0.04</td>\n",
       "    </tr>\n",
       "    <tr>\n",
       "      <th>2014-01-01 07:00:00</th>\n",
       "      <td>0.11</td>\n",
       "      <td>0.03</td>\n",
       "      <td>0.28</td>\n",
       "      <td>0.22</td>\n",
       "      <td>0.04</td>\n",
       "      <td>0.08</td>\n",
       "    </tr>\n",
       "    <tr>\n",
       "      <th>2014-01-01 08:00:00</th>\n",
       "      <td>0.15</td>\n",
       "      <td>0.16</td>\n",
       "      <td>0.38</td>\n",
       "      <td>0.16</td>\n",
       "      <td>0.06</td>\n",
       "      <td>0.17</td>\n",
       "    </tr>\n",
       "    <tr>\n",
       "      <th>2014-01-01 09:00:00</th>\n",
       "      <td>0.15</td>\n",
       "      <td>0.24</td>\n",
       "      <td>0.31</td>\n",
       "      <td>0.22</td>\n",
       "      <td>0.02</td>\n",
       "      <td>0.25</td>\n",
       "    </tr>\n",
       "    <tr>\n",
       "      <th>2014-01-01 10:00:00</th>\n",
       "      <td>0.07</td>\n",
       "      <td>0.11</td>\n",
       "      <td>0.17</td>\n",
       "      <td>0.02</td>\n",
       "      <td>0.04</td>\n",
       "      <td>0.08</td>\n",
       "    </tr>\n",
       "  </tbody>\n",
       "</table>\n",
       "<p>35075 rows × 6 columns</p>\n",
       "</div>"
      ],
      "text/plain": [
       "                     load  crime1  crime2  crime3  crime4  crime5\n",
       "2010-01-01 00:00:00  0.86    0.32    0.48    0.31    0.91    0.71\n",
       "2010-01-01 01:00:00  0.27    0.35    0.28    0.39    0.13    0.29\n",
       "2010-01-01 02:00:00  0.20    0.19    0.41    0.55    0.03    0.15\n",
       "2010-01-01 03:00:00  0.21    0.24    0.21    0.57    0.07    0.10\n",
       "2010-01-01 04:00:00  0.22    0.14    0.45    0.55    0.09    0.06\n",
       "...                   ...     ...     ...     ...     ...     ...\n",
       "2014-01-01 06:00:00  0.10    0.05    0.07    0.37    0.03    0.04\n",
       "2014-01-01 07:00:00  0.11    0.03    0.28    0.22    0.04    0.08\n",
       "2014-01-01 08:00:00  0.15    0.16    0.38    0.16    0.06    0.17\n",
       "2014-01-01 09:00:00  0.15    0.24    0.31    0.22    0.02    0.25\n",
       "2014-01-01 10:00:00  0.07    0.11    0.17    0.02    0.04    0.08\n",
       "\n",
       "[35075 rows x 6 columns]"
      ]
     },
     "execution_count": 13,
     "metadata": {},
     "output_type": "execute_result"
    }
   ],
   "source": [
    "energy1"
   ]
  },
  {
   "cell_type": "code",
   "execution_count": 14,
   "metadata": {},
   "outputs": [
    {
     "data": {
      "text/html": [
       "<div>\n",
       "<style scoped>\n",
       "    .dataframe tbody tr th:only-of-type {\n",
       "        vertical-align: middle;\n",
       "    }\n",
       "\n",
       "    .dataframe tbody tr th {\n",
       "        vertical-align: top;\n",
       "    }\n",
       "\n",
       "    .dataframe thead th {\n",
       "        text-align: right;\n",
       "    }\n",
       "</style>\n",
       "<table border=\"1\" class=\"dataframe\">\n",
       "  <thead>\n",
       "    <tr style=\"text-align: right;\">\n",
       "      <th></th>\n",
       "      <th>load</th>\n",
       "    </tr>\n",
       "  </thead>\n",
       "  <tbody>\n",
       "    <tr>\n",
       "      <th>2010-01-01 00:00:00</th>\n",
       "      <td>0.86</td>\n",
       "    </tr>\n",
       "    <tr>\n",
       "      <th>2010-01-01 01:00:00</th>\n",
       "      <td>0.27</td>\n",
       "    </tr>\n",
       "    <tr>\n",
       "      <th>2010-01-01 02:00:00</th>\n",
       "      <td>0.20</td>\n",
       "    </tr>\n",
       "    <tr>\n",
       "      <th>2010-01-01 03:00:00</th>\n",
       "      <td>0.21</td>\n",
       "    </tr>\n",
       "    <tr>\n",
       "      <th>2010-01-01 04:00:00</th>\n",
       "      <td>0.22</td>\n",
       "    </tr>\n",
       "    <tr>\n",
       "      <th>...</th>\n",
       "      <td>...</td>\n",
       "    </tr>\n",
       "    <tr>\n",
       "      <th>2014-01-01 06:00:00</th>\n",
       "      <td>0.10</td>\n",
       "    </tr>\n",
       "    <tr>\n",
       "      <th>2014-01-01 07:00:00</th>\n",
       "      <td>0.11</td>\n",
       "    </tr>\n",
       "    <tr>\n",
       "      <th>2014-01-01 08:00:00</th>\n",
       "      <td>0.15</td>\n",
       "    </tr>\n",
       "    <tr>\n",
       "      <th>2014-01-01 09:00:00</th>\n",
       "      <td>0.15</td>\n",
       "    </tr>\n",
       "    <tr>\n",
       "      <th>2014-01-01 10:00:00</th>\n",
       "      <td>0.07</td>\n",
       "    </tr>\n",
       "  </tbody>\n",
       "</table>\n",
       "<p>35075 rows × 1 columns</p>\n",
       "</div>"
      ],
      "text/plain": [
       "                     load\n",
       "2010-01-01 00:00:00  0.86\n",
       "2010-01-01 01:00:00  0.27\n",
       "2010-01-01 02:00:00  0.20\n",
       "2010-01-01 03:00:00  0.21\n",
       "2010-01-01 04:00:00  0.22\n",
       "...                   ...\n",
       "2014-01-01 06:00:00  0.10\n",
       "2014-01-01 07:00:00  0.11\n",
       "2014-01-01 08:00:00  0.15\n",
       "2014-01-01 09:00:00  0.15\n",
       "2014-01-01 10:00:00  0.07\n",
       "\n",
       "[35075 rows x 1 columns]"
      ]
     },
     "execution_count": 14,
     "metadata": {},
     "output_type": "execute_result"
    }
   ],
   "source": [
    "\n",
    "\n",
    "energy = energy1.copy()[energy1.index >= year+'-01-1 00:00:00' ][['load']]\n",
    "energy2 = energy1.copy()[energy1.index >= year+'-01-1 00:00:00' ][['load']]\n",
    "energy3 = energy1.copy()[energy1.index >= year+'-01-1 00:00:00' ][['load']]\n",
    "energy4 = energy1.copy()[energy1.index >= year+'-01-1 00:00:00' ][['load']]\n",
    "energy5 = energy1.copy()[energy1.index >= year+'-01-1 00:00:00' ][['load']]\n",
    "energy6 = energy1.copy()[energy1.index >= year+'-01-1 00:00:00' ][['load']]\n",
    "energy2['load'] = energy1.copy()[energy1.index >= year+'-01-1 00:00:00' ][['crime1']]\n",
    "energy3['load'] = energy1.copy()[energy1.index >= year+'-01-1 00:00:00' ][['crime2']]\n",
    "energy4['load'] = energy1.copy()[energy1.index >= year+'-01-1 00:00:00' ][['crime3']]\n",
    "energy5['load'] = energy1.copy()[energy1.index >= year+'-01-1 00:00:00' ][['crime4']]\n",
    "energy6['load'] = energy1.copy()[energy1.index >= year+'-01-1 00:00:00' ][['crime5']]\n",
    "energy"
   ]
  },
  {
   "cell_type": "code",
   "execution_count": 15,
   "metadata": {},
   "outputs": [
    {
     "data": {
      "text/html": [
       "<div>\n",
       "<style scoped>\n",
       "    .dataframe tbody tr th:only-of-type {\n",
       "        vertical-align: middle;\n",
       "    }\n",
       "\n",
       "    .dataframe tbody tr th {\n",
       "        vertical-align: top;\n",
       "    }\n",
       "\n",
       "    .dataframe thead th {\n",
       "        text-align: right;\n",
       "    }\n",
       "</style>\n",
       "<table border=\"1\" class=\"dataframe\">\n",
       "  <thead>\n",
       "    <tr style=\"text-align: right;\">\n",
       "      <th></th>\n",
       "      <th>load</th>\n",
       "    </tr>\n",
       "  </thead>\n",
       "  <tbody>\n",
       "    <tr>\n",
       "      <th>2010-01-01 00:00:00</th>\n",
       "      <td>0.32</td>\n",
       "    </tr>\n",
       "    <tr>\n",
       "      <th>2010-01-01 01:00:00</th>\n",
       "      <td>0.35</td>\n",
       "    </tr>\n",
       "    <tr>\n",
       "      <th>2010-01-01 02:00:00</th>\n",
       "      <td>0.19</td>\n",
       "    </tr>\n",
       "    <tr>\n",
       "      <th>2010-01-01 03:00:00</th>\n",
       "      <td>0.24</td>\n",
       "    </tr>\n",
       "    <tr>\n",
       "      <th>2010-01-01 04:00:00</th>\n",
       "      <td>0.14</td>\n",
       "    </tr>\n",
       "    <tr>\n",
       "      <th>...</th>\n",
       "      <td>...</td>\n",
       "    </tr>\n",
       "    <tr>\n",
       "      <th>2014-01-01 06:00:00</th>\n",
       "      <td>0.05</td>\n",
       "    </tr>\n",
       "    <tr>\n",
       "      <th>2014-01-01 07:00:00</th>\n",
       "      <td>0.03</td>\n",
       "    </tr>\n",
       "    <tr>\n",
       "      <th>2014-01-01 08:00:00</th>\n",
       "      <td>0.16</td>\n",
       "    </tr>\n",
       "    <tr>\n",
       "      <th>2014-01-01 09:00:00</th>\n",
       "      <td>0.24</td>\n",
       "    </tr>\n",
       "    <tr>\n",
       "      <th>2014-01-01 10:00:00</th>\n",
       "      <td>0.11</td>\n",
       "    </tr>\n",
       "  </tbody>\n",
       "</table>\n",
       "<p>35075 rows × 1 columns</p>\n",
       "</div>"
      ],
      "text/plain": [
       "                     load\n",
       "2010-01-01 00:00:00  0.32\n",
       "2010-01-01 01:00:00  0.35\n",
       "2010-01-01 02:00:00  0.19\n",
       "2010-01-01 03:00:00  0.24\n",
       "2010-01-01 04:00:00  0.14\n",
       "...                   ...\n",
       "2014-01-01 06:00:00  0.05\n",
       "2014-01-01 07:00:00  0.03\n",
       "2014-01-01 08:00:00  0.16\n",
       "2014-01-01 09:00:00  0.24\n",
       "2014-01-01 10:00:00  0.11\n",
       "\n",
       "[35075 rows x 1 columns]"
      ]
     },
     "execution_count": 15,
     "metadata": {},
     "output_type": "execute_result"
    }
   ],
   "source": [
    "energy2"
   ]
  },
  {
   "cell_type": "markdown",
   "metadata": {},
   "source": [
    "## Data preparation\n",
    "\n"
   ]
  },
  {
   "cell_type": "code",
   "execution_count": 16,
   "metadata": {},
   "outputs": [],
   "source": [
    "LATENT_DIM = T-1 # number of units in the RNN layer\n",
    "BATCH_SIZE = 48 # number of samples per mini-batch\n",
    "EPOCHS = 10 # maximum number of times the training algorithm will cycle through all samples\n",
    "m = 24 # seasonality length"
   ]
  },
  {
   "cell_type": "markdown",
   "metadata": {},
   "source": [
    "Create training set."
   ]
  },
  {
   "cell_type": "code",
   "execution_count": 17,
   "metadata": {},
   "outputs": [
    {
     "data": {
      "text/html": [
       "<div>\n",
       "<style scoped>\n",
       "    .dataframe tbody tr th:only-of-type {\n",
       "        vertical-align: middle;\n",
       "    }\n",
       "\n",
       "    .dataframe tbody tr th {\n",
       "        vertical-align: top;\n",
       "    }\n",
       "\n",
       "    .dataframe thead th {\n",
       "        text-align: right;\n",
       "    }\n",
       "</style>\n",
       "<table border=\"1\" class=\"dataframe\">\n",
       "  <thead>\n",
       "    <tr style=\"text-align: right;\">\n",
       "      <th></th>\n",
       "      <th>load</th>\n",
       "    </tr>\n",
       "  </thead>\n",
       "  <tbody>\n",
       "    <tr>\n",
       "      <th>2010-01-01 00:00:00</th>\n",
       "      <td>0.32</td>\n",
       "    </tr>\n",
       "    <tr>\n",
       "      <th>2010-01-01 01:00:00</th>\n",
       "      <td>0.35</td>\n",
       "    </tr>\n",
       "    <tr>\n",
       "      <th>2010-01-01 02:00:00</th>\n",
       "      <td>0.19</td>\n",
       "    </tr>\n",
       "    <tr>\n",
       "      <th>2010-01-01 03:00:00</th>\n",
       "      <td>0.24</td>\n",
       "    </tr>\n",
       "    <tr>\n",
       "      <th>2010-01-01 04:00:00</th>\n",
       "      <td>0.14</td>\n",
       "    </tr>\n",
       "    <tr>\n",
       "      <th>2010-01-01 05:00:00</th>\n",
       "      <td>0.03</td>\n",
       "    </tr>\n",
       "    <tr>\n",
       "      <th>2010-01-01 06:00:00</th>\n",
       "      <td>0.05</td>\n",
       "    </tr>\n",
       "    <tr>\n",
       "      <th>2010-01-01 07:00:00</th>\n",
       "      <td>0.11</td>\n",
       "    </tr>\n",
       "    <tr>\n",
       "      <th>2010-01-01 08:00:00</th>\n",
       "      <td>0.22</td>\n",
       "    </tr>\n",
       "    <tr>\n",
       "      <th>2010-01-01 09:00:00</th>\n",
       "      <td>0.22</td>\n",
       "    </tr>\n",
       "  </tbody>\n",
       "</table>\n",
       "</div>"
      ],
      "text/plain": [
       "                     load\n",
       "2010-01-01 00:00:00  0.32\n",
       "2010-01-01 01:00:00  0.35\n",
       "2010-01-01 02:00:00  0.19\n",
       "2010-01-01 03:00:00  0.24\n",
       "2010-01-01 04:00:00  0.14\n",
       "2010-01-01 05:00:00  0.03\n",
       "2010-01-01 06:00:00  0.05\n",
       "2010-01-01 07:00:00  0.11\n",
       "2010-01-01 08:00:00  0.22\n",
       "2010-01-01 09:00:00  0.22"
      ]
     },
     "execution_count": 17,
     "metadata": {},
     "output_type": "execute_result"
    }
   ],
   "source": [
    "train = energy.copy()[energy.index < test_start_dt][['load']]\n",
    "train2 = energy2.copy()[energy2.index < test_start_dt][['load']]\n",
    "train3 = energy3.copy()[energy3.index < test_start_dt][['load']]\n",
    "train4 = energy4.copy()[energy4.index < test_start_dt][['load']]\n",
    "train5 = energy5.copy()[energy5.index < test_start_dt][['load']]\n",
    "train6 = energy6.copy()[energy6.index < test_start_dt][['load']]\n",
    "train2.head(10)"
   ]
  },
  {
   "cell_type": "markdown",
   "metadata": {},
   "source": [
    "Scale data to be in range (0, 1). This transformation should be calibrated on the training set only. This is to prevent information from the validation or test sets leaking into the training data."
   ]
  },
  {
   "cell_type": "markdown",
   "metadata": {},
   "source": [
    "Use the TimeSeriesTensor convenience class to:\n",
    "1. Shift the values of the time series to create a Pandas dataframe containing all the data for a single training example\n",
    "2. Discard any samples with missing values\n",
    "3. Transform this Pandas dataframe into a numpy array of shape (samples, time steps, features) for input into Keras\n",
    "\n",
    "The class takes the following parameters:\n",
    "\n",
    "- **dataset**: original time series\n",
    "- **H**: the forecast horizon\n",
    "- **tensor_structure**: a dictionary discribing the tensor structure in the form { 'tensor_name' : (range(max_backward_shift, max_forward_shift), [feature, feature, ...] ) }\n",
    "- **freq**: time series frequency\n",
    "- **drop_incomplete**: (Boolean) whether to drop incomplete samples"
   ]
  },
  {
   "cell_type": "code",
   "execution_count": 18,
   "metadata": {},
   "outputs": [
    {
     "name": "stdout",
     "output_type": "stream",
     "text": [
      "{'X': (range(-17, 1), ['load'])}\n"
     ]
    }
   ],
   "source": [
    "tensor_structure = {'X':(range(-T+1, 1), ['load'])}\n",
    "print(tensor_structure)\n",
    "train_inputs = TimeSeriesTensor(train, 'load', HORIZON,BATCH_SIZE, tensor_structure)\n",
    "train_inputs2 = TimeSeriesTensor(train2, 'load', HORIZON,BATCH_SIZE, tensor_structure)\n",
    "train_inputs3 = TimeSeriesTensor(train3, 'load', HORIZON,BATCH_SIZE, tensor_structure)\n",
    "train_inputs4 = TimeSeriesTensor(train4, 'load', HORIZON,BATCH_SIZE, tensor_structure)\n",
    "train_inputs5 = TimeSeriesTensor(train5, 'load', HORIZON,BATCH_SIZE, tensor_structure)\n",
    "train_inputs6 = TimeSeriesTensor(train6, 'load', HORIZON,BATCH_SIZE, tensor_structure)\n",
    "#train_inputs2\n"
   ]
  },
  {
   "cell_type": "code",
   "execution_count": 19,
   "metadata": {},
   "outputs": [
    {
     "data": {
      "text/html": [
       "<div>\n",
       "<style scoped>\n",
       "    .dataframe tbody tr th:only-of-type {\n",
       "        vertical-align: middle;\n",
       "    }\n",
       "\n",
       "    .dataframe tbody tr th {\n",
       "        vertical-align: top;\n",
       "    }\n",
       "\n",
       "    .dataframe thead tr th {\n",
       "        text-align: left;\n",
       "    }\n",
       "</style>\n",
       "<table border=\"1\" class=\"dataframe\">\n",
       "  <thead>\n",
       "    <tr>\n",
       "      <th>tensor</th>\n",
       "      <th>target</th>\n",
       "      <th colspan=\"18\" halign=\"left\">X</th>\n",
       "    </tr>\n",
       "    <tr>\n",
       "      <th>feature</th>\n",
       "      <th>y</th>\n",
       "      <th colspan=\"18\" halign=\"left\">load</th>\n",
       "    </tr>\n",
       "    <tr>\n",
       "      <th>time step</th>\n",
       "      <th>t+1</th>\n",
       "      <th>t-17</th>\n",
       "      <th>t-16</th>\n",
       "      <th>t-15</th>\n",
       "      <th>t-14</th>\n",
       "      <th>t-13</th>\n",
       "      <th>t-12</th>\n",
       "      <th>t-11</th>\n",
       "      <th>t-10</th>\n",
       "      <th>t-9</th>\n",
       "      <th>t-8</th>\n",
       "      <th>t-7</th>\n",
       "      <th>t-6</th>\n",
       "      <th>t-5</th>\n",
       "      <th>t-4</th>\n",
       "      <th>t-3</th>\n",
       "      <th>t-2</th>\n",
       "      <th>t-1</th>\n",
       "      <th>t</th>\n",
       "    </tr>\n",
       "  </thead>\n",
       "  <tbody>\n",
       "    <tr>\n",
       "      <th>2010-01-01 17:00:00</th>\n",
       "      <td>0.27</td>\n",
       "      <td>0.32</td>\n",
       "      <td>0.35</td>\n",
       "      <td>0.19</td>\n",
       "      <td>0.24</td>\n",
       "      <td>0.14</td>\n",
       "      <td>0.03</td>\n",
       "      <td>0.05</td>\n",
       "      <td>0.11</td>\n",
       "      <td>0.22</td>\n",
       "      <td>0.22</td>\n",
       "      <td>0.22</td>\n",
       "      <td>0.27</td>\n",
       "      <td>0.46</td>\n",
       "      <td>0.16</td>\n",
       "      <td>0.24</td>\n",
       "      <td>0.27</td>\n",
       "      <td>0.38</td>\n",
       "      <td>0.24</td>\n",
       "    </tr>\n",
       "    <tr>\n",
       "      <th>2010-01-01 18:00:00</th>\n",
       "      <td>0.24</td>\n",
       "      <td>0.35</td>\n",
       "      <td>0.19</td>\n",
       "      <td>0.24</td>\n",
       "      <td>0.14</td>\n",
       "      <td>0.03</td>\n",
       "      <td>0.05</td>\n",
       "      <td>0.11</td>\n",
       "      <td>0.22</td>\n",
       "      <td>0.22</td>\n",
       "      <td>0.22</td>\n",
       "      <td>0.27</td>\n",
       "      <td>0.46</td>\n",
       "      <td>0.16</td>\n",
       "      <td>0.24</td>\n",
       "      <td>0.27</td>\n",
       "      <td>0.38</td>\n",
       "      <td>0.24</td>\n",
       "      <td>0.27</td>\n",
       "    </tr>\n",
       "    <tr>\n",
       "      <th>2010-01-01 19:00:00</th>\n",
       "      <td>0.22</td>\n",
       "      <td>0.19</td>\n",
       "      <td>0.24</td>\n",
       "      <td>0.14</td>\n",
       "      <td>0.03</td>\n",
       "      <td>0.05</td>\n",
       "      <td>0.11</td>\n",
       "      <td>0.22</td>\n",
       "      <td>0.22</td>\n",
       "      <td>0.22</td>\n",
       "      <td>0.27</td>\n",
       "      <td>0.46</td>\n",
       "      <td>0.16</td>\n",
       "      <td>0.24</td>\n",
       "      <td>0.27</td>\n",
       "      <td>0.38</td>\n",
       "      <td>0.24</td>\n",
       "      <td>0.27</td>\n",
       "      <td>0.24</td>\n",
       "    </tr>\n",
       "    <tr>\n",
       "      <th>2010-01-01 20:00:00</th>\n",
       "      <td>0.24</td>\n",
       "      <td>0.24</td>\n",
       "      <td>0.14</td>\n",
       "      <td>0.03</td>\n",
       "      <td>0.05</td>\n",
       "      <td>0.11</td>\n",
       "      <td>0.22</td>\n",
       "      <td>0.22</td>\n",
       "      <td>0.22</td>\n",
       "      <td>0.27</td>\n",
       "      <td>0.46</td>\n",
       "      <td>0.16</td>\n",
       "      <td>0.24</td>\n",
       "      <td>0.27</td>\n",
       "      <td>0.38</td>\n",
       "      <td>0.24</td>\n",
       "      <td>0.27</td>\n",
       "      <td>0.24</td>\n",
       "      <td>0.22</td>\n",
       "    </tr>\n",
       "    <tr>\n",
       "      <th>2010-01-01 21:00:00</th>\n",
       "      <td>0.22</td>\n",
       "      <td>0.14</td>\n",
       "      <td>0.03</td>\n",
       "      <td>0.05</td>\n",
       "      <td>0.11</td>\n",
       "      <td>0.22</td>\n",
       "      <td>0.22</td>\n",
       "      <td>0.22</td>\n",
       "      <td>0.27</td>\n",
       "      <td>0.46</td>\n",
       "      <td>0.16</td>\n",
       "      <td>0.24</td>\n",
       "      <td>0.27</td>\n",
       "      <td>0.38</td>\n",
       "      <td>0.24</td>\n",
       "      <td>0.27</td>\n",
       "      <td>0.24</td>\n",
       "      <td>0.22</td>\n",
       "      <td>0.24</td>\n",
       "    </tr>\n",
       "    <tr>\n",
       "      <th>2010-01-01 22:00:00</th>\n",
       "      <td>0.16</td>\n",
       "      <td>0.03</td>\n",
       "      <td>0.05</td>\n",
       "      <td>0.11</td>\n",
       "      <td>0.22</td>\n",
       "      <td>0.22</td>\n",
       "      <td>0.22</td>\n",
       "      <td>0.27</td>\n",
       "      <td>0.46</td>\n",
       "      <td>0.16</td>\n",
       "      <td>0.24</td>\n",
       "      <td>0.27</td>\n",
       "      <td>0.38</td>\n",
       "      <td>0.24</td>\n",
       "      <td>0.27</td>\n",
       "      <td>0.24</td>\n",
       "      <td>0.22</td>\n",
       "      <td>0.24</td>\n",
       "      <td>0.22</td>\n",
       "    </tr>\n",
       "    <tr>\n",
       "      <th>2010-01-01 23:00:00</th>\n",
       "      <td>0.16</td>\n",
       "      <td>0.05</td>\n",
       "      <td>0.11</td>\n",
       "      <td>0.22</td>\n",
       "      <td>0.22</td>\n",
       "      <td>0.22</td>\n",
       "      <td>0.27</td>\n",
       "      <td>0.46</td>\n",
       "      <td>0.16</td>\n",
       "      <td>0.24</td>\n",
       "      <td>0.27</td>\n",
       "      <td>0.38</td>\n",
       "      <td>0.24</td>\n",
       "      <td>0.27</td>\n",
       "      <td>0.24</td>\n",
       "      <td>0.22</td>\n",
       "      <td>0.24</td>\n",
       "      <td>0.22</td>\n",
       "      <td>0.16</td>\n",
       "    </tr>\n",
       "    <tr>\n",
       "      <th>2010-01-02 00:00:00</th>\n",
       "      <td>0.11</td>\n",
       "      <td>0.11</td>\n",
       "      <td>0.22</td>\n",
       "      <td>0.22</td>\n",
       "      <td>0.22</td>\n",
       "      <td>0.27</td>\n",
       "      <td>0.46</td>\n",
       "      <td>0.16</td>\n",
       "      <td>0.24</td>\n",
       "      <td>0.27</td>\n",
       "      <td>0.38</td>\n",
       "      <td>0.24</td>\n",
       "      <td>0.27</td>\n",
       "      <td>0.24</td>\n",
       "      <td>0.22</td>\n",
       "      <td>0.24</td>\n",
       "      <td>0.22</td>\n",
       "      <td>0.16</td>\n",
       "      <td>0.16</td>\n",
       "    </tr>\n",
       "    <tr>\n",
       "      <th>2010-01-02 01:00:00</th>\n",
       "      <td>0.11</td>\n",
       "      <td>0.22</td>\n",
       "      <td>0.22</td>\n",
       "      <td>0.22</td>\n",
       "      <td>0.27</td>\n",
       "      <td>0.46</td>\n",
       "      <td>0.16</td>\n",
       "      <td>0.24</td>\n",
       "      <td>0.27</td>\n",
       "      <td>0.38</td>\n",
       "      <td>0.24</td>\n",
       "      <td>0.27</td>\n",
       "      <td>0.24</td>\n",
       "      <td>0.22</td>\n",
       "      <td>0.24</td>\n",
       "      <td>0.22</td>\n",
       "      <td>0.16</td>\n",
       "      <td>0.16</td>\n",
       "      <td>0.11</td>\n",
       "    </tr>\n",
       "    <tr>\n",
       "      <th>2010-01-02 02:00:00</th>\n",
       "      <td>0.08</td>\n",
       "      <td>0.22</td>\n",
       "      <td>0.22</td>\n",
       "      <td>0.27</td>\n",
       "      <td>0.46</td>\n",
       "      <td>0.16</td>\n",
       "      <td>0.24</td>\n",
       "      <td>0.27</td>\n",
       "      <td>0.38</td>\n",
       "      <td>0.24</td>\n",
       "      <td>0.27</td>\n",
       "      <td>0.24</td>\n",
       "      <td>0.22</td>\n",
       "      <td>0.24</td>\n",
       "      <td>0.22</td>\n",
       "      <td>0.16</td>\n",
       "      <td>0.16</td>\n",
       "      <td>0.11</td>\n",
       "      <td>0.11</td>\n",
       "    </tr>\n",
       "  </tbody>\n",
       "</table>\n",
       "</div>"
      ],
      "text/plain": [
       "tensor              target    X                                               \\\n",
       "feature                  y load                                                \n",
       "time step              t+1 t-17 t-16 t-15 t-14 t-13 t-12 t-11 t-10  t-9  t-8   \n",
       "2010-01-01 17:00:00   0.27 0.32 0.35 0.19 0.24 0.14 0.03 0.05 0.11 0.22 0.22   \n",
       "2010-01-01 18:00:00   0.24 0.35 0.19 0.24 0.14 0.03 0.05 0.11 0.22 0.22 0.22   \n",
       "2010-01-01 19:00:00   0.22 0.19 0.24 0.14 0.03 0.05 0.11 0.22 0.22 0.22 0.27   \n",
       "2010-01-01 20:00:00   0.24 0.24 0.14 0.03 0.05 0.11 0.22 0.22 0.22 0.27 0.46   \n",
       "2010-01-01 21:00:00   0.22 0.14 0.03 0.05 0.11 0.22 0.22 0.22 0.27 0.46 0.16   \n",
       "2010-01-01 22:00:00   0.16 0.03 0.05 0.11 0.22 0.22 0.22 0.27 0.46 0.16 0.24   \n",
       "2010-01-01 23:00:00   0.16 0.05 0.11 0.22 0.22 0.22 0.27 0.46 0.16 0.24 0.27   \n",
       "2010-01-02 00:00:00   0.11 0.11 0.22 0.22 0.22 0.27 0.46 0.16 0.24 0.27 0.38   \n",
       "2010-01-02 01:00:00   0.11 0.22 0.22 0.22 0.27 0.46 0.16 0.24 0.27 0.38 0.24   \n",
       "2010-01-02 02:00:00   0.08 0.22 0.22 0.27 0.46 0.16 0.24 0.27 0.38 0.24 0.27   \n",
       "\n",
       "tensor                                                       \n",
       "feature                                                      \n",
       "time step            t-7  t-6  t-5  t-4  t-3  t-2  t-1    t  \n",
       "2010-01-01 17:00:00 0.22 0.27 0.46 0.16 0.24 0.27 0.38 0.24  \n",
       "2010-01-01 18:00:00 0.27 0.46 0.16 0.24 0.27 0.38 0.24 0.27  \n",
       "2010-01-01 19:00:00 0.46 0.16 0.24 0.27 0.38 0.24 0.27 0.24  \n",
       "2010-01-01 20:00:00 0.16 0.24 0.27 0.38 0.24 0.27 0.24 0.22  \n",
       "2010-01-01 21:00:00 0.24 0.27 0.38 0.24 0.27 0.24 0.22 0.24  \n",
       "2010-01-01 22:00:00 0.27 0.38 0.24 0.27 0.24 0.22 0.24 0.22  \n",
       "2010-01-01 23:00:00 0.38 0.24 0.27 0.24 0.22 0.24 0.22 0.16  \n",
       "2010-01-02 00:00:00 0.24 0.27 0.24 0.22 0.24 0.22 0.16 0.16  \n",
       "2010-01-02 01:00:00 0.27 0.24 0.22 0.24 0.22 0.16 0.16 0.11  \n",
       "2010-01-02 02:00:00 0.24 0.22 0.24 0.22 0.16 0.16 0.11 0.11  "
      ]
     },
     "execution_count": 19,
     "metadata": {},
     "output_type": "execute_result"
    }
   ],
   "source": [
    "train_inputs2.dataframe.head(10)"
   ]
  },
  {
   "cell_type": "code",
   "execution_count": 20,
   "metadata": {},
   "outputs": [
    {
     "name": "stdout",
     "output_type": "stream",
     "text": [
      "y_train shape:  (35040, 1)\n",
      "x_train shape:  (35040, 18, 1)\n"
     ]
    }
   ],
   "source": [
    "print(\"y_train shape: \", train_inputs['target'].shape)\n",
    "print(\"x_train shape: \", train_inputs['X'].shape)"
   ]
  },
  {
   "cell_type": "code",
   "execution_count": 21,
   "metadata": {},
   "outputs": [
    {
     "data": {
      "text/plain": [
       "array([[[0.86],\n",
       "        [0.27],\n",
       "        [0.2 ],\n",
       "        [0.21],\n",
       "        [0.22],\n",
       "        [0.12],\n",
       "        [0.08],\n",
       "        [0.1 ],\n",
       "        [0.16],\n",
       "        [0.14],\n",
       "        [0.07],\n",
       "        [0.11],\n",
       "        [0.38],\n",
       "        [0.13],\n",
       "        [0.12],\n",
       "        [0.12],\n",
       "        [0.11],\n",
       "        [0.13]],\n",
       "\n",
       "       [[0.27],\n",
       "        [0.2 ],\n",
       "        [0.21],\n",
       "        [0.22],\n",
       "        [0.12],\n",
       "        [0.08],\n",
       "        [0.1 ],\n",
       "        [0.16],\n",
       "        [0.14],\n",
       "        [0.07],\n",
       "        [0.11],\n",
       "        [0.38],\n",
       "        [0.13],\n",
       "        [0.12],\n",
       "        [0.12],\n",
       "        [0.11],\n",
       "        [0.13],\n",
       "        [0.14]],\n",
       "\n",
       "       [[0.2 ],\n",
       "        [0.21],\n",
       "        [0.22],\n",
       "        [0.12],\n",
       "        [0.08],\n",
       "        [0.1 ],\n",
       "        [0.16],\n",
       "        [0.14],\n",
       "        [0.07],\n",
       "        [0.11],\n",
       "        [0.38],\n",
       "        [0.13],\n",
       "        [0.12],\n",
       "        [0.12],\n",
       "        [0.11],\n",
       "        [0.13],\n",
       "        [0.14],\n",
       "        [0.11]]])"
      ]
     },
     "execution_count": 21,
     "metadata": {},
     "output_type": "execute_result"
    }
   ],
   "source": [
    "train_inputs['X'][:3]"
   ]
  },
  {
   "cell_type": "code",
   "execution_count": 22,
   "metadata": {
    "scrolled": true
   },
   "outputs": [
    {
     "data": {
      "text/plain": [
       "array([[[0.86],\n",
       "        [0.27],\n",
       "        [0.2 ],\n",
       "        [0.21],\n",
       "        [0.22],\n",
       "        [0.12],\n",
       "        [0.08],\n",
       "        [0.1 ],\n",
       "        [0.16],\n",
       "        [0.14],\n",
       "        [0.07],\n",
       "        [0.11],\n",
       "        [0.38],\n",
       "        [0.13],\n",
       "        [0.12],\n",
       "        [0.12],\n",
       "        [0.11],\n",
       "        [0.13]],\n",
       "\n",
       "       [[0.27],\n",
       "        [0.2 ],\n",
       "        [0.21],\n",
       "        [0.22],\n",
       "        [0.12],\n",
       "        [0.08],\n",
       "        [0.1 ],\n",
       "        [0.16],\n",
       "        [0.14],\n",
       "        [0.07],\n",
       "        [0.11],\n",
       "        [0.38],\n",
       "        [0.13],\n",
       "        [0.12],\n",
       "        [0.12],\n",
       "        [0.11],\n",
       "        [0.13],\n",
       "        [0.14]],\n",
       "\n",
       "       [[0.2 ],\n",
       "        [0.21],\n",
       "        [0.22],\n",
       "        [0.12],\n",
       "        [0.08],\n",
       "        [0.1 ],\n",
       "        [0.16],\n",
       "        [0.14],\n",
       "        [0.07],\n",
       "        [0.11],\n",
       "        [0.38],\n",
       "        [0.13],\n",
       "        [0.12],\n",
       "        [0.12],\n",
       "        [0.11],\n",
       "        [0.13],\n",
       "        [0.14],\n",
       "        [0.11]]])"
      ]
     },
     "execution_count": 22,
     "metadata": {},
     "output_type": "execute_result"
    }
   ],
   "source": [
    "train_inputs['X'][:3]"
   ]
  },
  {
   "cell_type": "code",
   "execution_count": 23,
   "metadata": {},
   "outputs": [
    {
     "data": {
      "text/html": [
       "<div>\n",
       "<style scoped>\n",
       "    .dataframe tbody tr th:only-of-type {\n",
       "        vertical-align: middle;\n",
       "    }\n",
       "\n",
       "    .dataframe tbody tr th {\n",
       "        vertical-align: top;\n",
       "    }\n",
       "\n",
       "    .dataframe thead th {\n",
       "        text-align: right;\n",
       "    }\n",
       "</style>\n",
       "<table border=\"1\" class=\"dataframe\">\n",
       "  <thead>\n",
       "    <tr style=\"text-align: right;\">\n",
       "      <th></th>\n",
       "      <th>load</th>\n",
       "    </tr>\n",
       "  </thead>\n",
       "  <tbody>\n",
       "    <tr>\n",
       "      <th>2010-01-01 00:00:00</th>\n",
       "      <td>0.86</td>\n",
       "    </tr>\n",
       "    <tr>\n",
       "      <th>2010-01-01 01:00:00</th>\n",
       "      <td>0.27</td>\n",
       "    </tr>\n",
       "    <tr>\n",
       "      <th>2010-01-01 02:00:00</th>\n",
       "      <td>0.20</td>\n",
       "    </tr>\n",
       "    <tr>\n",
       "      <th>2010-01-01 03:00:00</th>\n",
       "      <td>0.21</td>\n",
       "    </tr>\n",
       "    <tr>\n",
       "      <th>2010-01-01 04:00:00</th>\n",
       "      <td>0.22</td>\n",
       "    </tr>\n",
       "    <tr>\n",
       "      <th>2010-01-01 05:00:00</th>\n",
       "      <td>0.12</td>\n",
       "    </tr>\n",
       "    <tr>\n",
       "      <th>2010-01-01 06:00:00</th>\n",
       "      <td>0.08</td>\n",
       "    </tr>\n",
       "    <tr>\n",
       "      <th>2010-01-01 07:00:00</th>\n",
       "      <td>0.10</td>\n",
       "    </tr>\n",
       "    <tr>\n",
       "      <th>2010-01-01 08:00:00</th>\n",
       "      <td>0.16</td>\n",
       "    </tr>\n",
       "    <tr>\n",
       "      <th>2010-01-01 09:00:00</th>\n",
       "      <td>0.14</td>\n",
       "    </tr>\n",
       "  </tbody>\n",
       "</table>\n",
       "</div>"
      ],
      "text/plain": [
       "                     load\n",
       "2010-01-01 00:00:00  0.86\n",
       "2010-01-01 01:00:00  0.27\n",
       "2010-01-01 02:00:00  0.20\n",
       "2010-01-01 03:00:00  0.21\n",
       "2010-01-01 04:00:00  0.22\n",
       "2010-01-01 05:00:00  0.12\n",
       "2010-01-01 06:00:00  0.08\n",
       "2010-01-01 07:00:00  0.10\n",
       "2010-01-01 08:00:00  0.16\n",
       "2010-01-01 09:00:00  0.14"
      ]
     },
     "execution_count": 23,
     "metadata": {},
     "output_type": "execute_result"
    }
   ],
   "source": [
    "train.head(10)"
   ]
  },
  {
   "cell_type": "code",
   "execution_count": 24,
   "metadata": {
    "scrolled": true
   },
   "outputs": [
    {
     "data": {
      "text/html": [
       "<div>\n",
       "<style scoped>\n",
       "    .dataframe tbody tr th:only-of-type {\n",
       "        vertical-align: middle;\n",
       "    }\n",
       "\n",
       "    .dataframe tbody tr th {\n",
       "        vertical-align: top;\n",
       "    }\n",
       "\n",
       "    .dataframe thead tr th {\n",
       "        text-align: left;\n",
       "    }\n",
       "</style>\n",
       "<table border=\"1\" class=\"dataframe\">\n",
       "  <thead>\n",
       "    <tr>\n",
       "      <th>feature</th>\n",
       "      <th>y</th>\n",
       "    </tr>\n",
       "    <tr>\n",
       "      <th>time step</th>\n",
       "      <th>t+1</th>\n",
       "    </tr>\n",
       "  </thead>\n",
       "  <tbody>\n",
       "    <tr>\n",
       "      <th>2010-01-01 17:00:00</th>\n",
       "      <td>0.14</td>\n",
       "    </tr>\n",
       "    <tr>\n",
       "      <th>2010-01-01 18:00:00</th>\n",
       "      <td>0.11</td>\n",
       "    </tr>\n",
       "    <tr>\n",
       "      <th>2010-01-01 19:00:00</th>\n",
       "      <td>0.13</td>\n",
       "    </tr>\n",
       "    <tr>\n",
       "      <th>2010-01-01 20:00:00</th>\n",
       "      <td>0.08</td>\n",
       "    </tr>\n",
       "    <tr>\n",
       "      <th>2010-01-01 21:00:00</th>\n",
       "      <td>0.12</td>\n",
       "    </tr>\n",
       "    <tr>\n",
       "      <th>...</th>\n",
       "      <td>...</td>\n",
       "    </tr>\n",
       "    <tr>\n",
       "      <th>2013-12-31 12:00:00</th>\n",
       "      <td>0.09</td>\n",
       "    </tr>\n",
       "    <tr>\n",
       "      <th>2013-12-31 13:00:00</th>\n",
       "      <td>0.14</td>\n",
       "    </tr>\n",
       "    <tr>\n",
       "      <th>2013-12-31 14:00:00</th>\n",
       "      <td>0.13</td>\n",
       "    </tr>\n",
       "    <tr>\n",
       "      <th>2013-12-31 15:00:00</th>\n",
       "      <td>0.14</td>\n",
       "    </tr>\n",
       "    <tr>\n",
       "      <th>2013-12-31 16:00:00</th>\n",
       "      <td>0.15</td>\n",
       "    </tr>\n",
       "  </tbody>\n",
       "</table>\n",
       "<p>35040 rows × 1 columns</p>\n",
       "</div>"
      ],
      "text/plain": [
       "feature                y\n",
       "time step            t+1\n",
       "2010-01-01 17:00:00 0.14\n",
       "2010-01-01 18:00:00 0.11\n",
       "2010-01-01 19:00:00 0.13\n",
       "2010-01-01 20:00:00 0.08\n",
       "2010-01-01 21:00:00 0.12\n",
       "...                  ...\n",
       "2013-12-31 12:00:00 0.09\n",
       "2013-12-31 13:00:00 0.14\n",
       "2013-12-31 14:00:00 0.13\n",
       "2013-12-31 15:00:00 0.14\n",
       "2013-12-31 16:00:00 0.15\n",
       "\n",
       "[35040 rows x 1 columns]"
      ]
     },
     "execution_count": 24,
     "metadata": {},
     "output_type": "execute_result"
    }
   ],
   "source": [
    "train_inputs['target']"
   ]
  },
  {
   "cell_type": "markdown",
   "metadata": {},
   "source": [
    "Construct validation set (keeping T hours from the training set in order to construct initial features)"
   ]
  },
  {
   "cell_type": "markdown",
   "metadata": {},
   "source": [
    "## Implement ES-RNN"
   ]
  },
  {
   "cell_type": "markdown",
   "metadata": {},
   "source": [
    "We will implement ES-RNN forecasting model with the following structure:"
   ]
  },
  {
   "cell_type": "code",
   "execution_count": 3,
   "metadata": {},
   "outputs": [
    {
     "data": {
      "image/png": "[encoded data removed]",
      "text/plain": [
       "<IPython.core.display.Image object>"
      ]
     },
     "execution_count": 3,
     "metadata": {},
     "output_type": "execute_result"
    }
   ],
   "source": [
    "Image('./images/Untitled.png')"
   ]
  },
  {
   "cell_type": "code",
   "execution_count": 26,
   "metadata": {},
   "outputs": [
    {
     "name": "stderr",
     "output_type": "stream",
     "text": [
      "Using TensorFlow backend.\n"
     ]
    }
   ],
   "source": [
    "from keras.models import Model\n",
    "from keras.layers import Input, GRU, Dense, Lambda,LSTM,Dropout,Bidirectional,TimeDistributed,RepeatVector,Activation,concatenate,merge\n",
    "from keras.callbacks import EarlyStopping\n",
    "from keras.models import Sequential"
   ]
  },
  {
   "cell_type": "markdown",
   "metadata": {},
   "source": [
    "### Create custom layers in Keras\n",
    "In this section we define two custom layers:\n",
    "- ***ES*** layer: This layer implements the Expomemtial Smoothing,  normalization and de-seasonalization for input data.\n",
    "- ***Denormalization*** layer: This layer takes the normalization and de-seasonalization coefficients from ES layer and multiply them to output of RNN for de-normalization and seasonalization.\n",
    "\n",
    "\n",
    "There are 3 methods you need to implement in your custom layer:\n",
    "- build(input_shape): this is where you will define your weights.\n",
    "- call(x): this is where the layer's logic lives.\n",
    "- compute_output_shape(input_shape): in case your layer modifies the shape of its input, you should specify here the shape transformation logic. \n",
    "\n",
    "You can check [Keras documentation](https://keras.io/layers/writing-your-own-keras-layers/) for more details about creating custom layer."
   ]
  },
  {
   "cell_type": "code",
   "execution_count": 27,
   "metadata": {},
   "outputs": [],
   "source": [
    "from keras import backend as K\n",
    "from keras.layers import Layer\n",
    "from keras import initializers\n",
    "\n",
    "# Exponential Smoothing + Normalization\n",
    "class ES(Layer):\n",
    "\n",
    "    def __init__(self, horizon, m, batch_size, time_steps, **kwargs):\n",
    "        self.horizon = horizon\n",
    "        self.m = m\n",
    "        self.batch_size = batch_size\n",
    "        self.time_steps = time_steps\n",
    "        \n",
    "        super(ES, self).__init__(**kwargs)\n",
    "\n",
    "    # initialization of the learned parameters of exponential smoothing\n",
    "    def build(self, input_shape):\n",
    "        self.alpha = self.add_weight(name='alpha', shape=(1,),\n",
    "                                     initializer='uniform', trainable=True)\n",
    "        print(self.alpha )\n",
    "        self.gamma = self.add_weight(name='gamma', shape=(1,),\n",
    "                                     initializer='uniform', trainable=True)\n",
    "        self.init_seasonality = self.add_weight(name='init_seasonality', shape=(self.m,),\n",
    "                                                initializer=initializers.Constant(value=0.8), trainable=True)\n",
    "        print(self.init_seasonality)\n",
    "        self.init_seasonality_list = [K.slice(self.init_seasonality,(i,),(1,)) for i in range(self.m)]\n",
    "        self.seasonality_queue = deque(self.init_seasonality_list, self.m)\n",
    "        #print(self.seasonality_queue)\n",
    "        self.level = self.add_weight(name='init_level', shape=(1,),\n",
    "                                     initializer=initializers.Constant(value=0.8), \n",
    "                                     trainable=True)\n",
    "        super(ES, self).build(input_shape)  \n",
    "\n",
    "    def call(self, x):\n",
    "\n",
    "        # extract time-series from feature vector\n",
    "        n_examples = K.int_shape(x)[0]\n",
    "        if n_examples is None:\n",
    "            n_examples = self.batch_size\n",
    "        x1 = K.slice(x,(0,0,0),(1,self.time_steps,1))\n",
    "        x1 = K.reshape(x1,(self.time_steps,))\n",
    "        #print(x1)\n",
    "        x2 = K.slice(x,(1,self.time_steps-1,0),(n_examples-1,1,1))\n",
    "        x2 = K.reshape(x2,(n_examples-1,))\n",
    "        #print(x2)\n",
    "        ts = K.concatenate([x1,x2])\n",
    "        #print(ts)\n",
    "        \n",
    "        x_norm = []  # normalized values of time-series\n",
    "        ls = []      # coeffients for denormalization of forecasts\n",
    "        \n",
    "        l_t_minus_1 = self.level\n",
    "        print(n_examples+self.time_steps-1)\n",
    "        for i in range(n_examples+self.time_steps-1):\n",
    "        \n",
    "            # compute l_t\n",
    "            y_t = ts[i]\n",
    "            s_t = self.seasonality_queue.popleft()\n",
    "            l_t = self.alpha * y_t / s_t + (1 - self.alpha) * l_t_minus_1\n",
    "            \n",
    "            # compute s_{t+m}\n",
    "            s_t_plus_m = self.gamma * y_t / l_t + (1 - self.gamma) * s_t\n",
    "            \n",
    "            self.seasonality_queue.append(s_t_plus_m)\n",
    "          \n",
    "            # normalize y_t\n",
    "            x_norm.append(y_t / (s_t * l_t))\n",
    "\n",
    "            l_t_minus_1 = l_t\n",
    "\n",
    "            if i >= self.time_steps-1:\n",
    "                l = [l_t]*self.horizon\n",
    "                l = K.concatenate(l)\n",
    "                s = [self.seasonality_queue[i] for i in range(self.horizon)] # we assume here that horizon < m\n",
    "                s = K.concatenate(s)\n",
    "                ls_t = K.concatenate([K.expand_dims(l), K.expand_dims(s)])\n",
    "                ls.append(K.expand_dims(ls_t,axis=0))  \n",
    "       \n",
    "        self.level = l_t\n",
    "        x_norm = K.concatenate(x_norm)\n",
    "\n",
    "        # create x_out\n",
    "        x_out = []\n",
    "        for i in range(n_examples):\n",
    "            norm_features = K.slice(x_norm,(i,),(self.time_steps,))\n",
    "            norm_features = K.expand_dims(norm_features,axis=0)\n",
    "            x_out.append(norm_features)\n",
    "\n",
    "        x_out = K.concatenate(x_out, axis=0)\n",
    "        x_out = K.expand_dims(x_out)\n",
    "\n",
    "        # create tensor of denormalization coefficients \n",
    "        denorm_coeff = K.concatenate(ls, axis=0)\n",
    "        return [x_out, denorm_coeff]\n",
    "\n",
    "    def compute_output_shape(self, input_shape):\n",
    "        return [(input_shape[0], input_shape[1], input_shape[2]), (input_shape[0], self.horizon, 2)]\n",
    "    \n",
    "class Denormalization(Layer):\n",
    "    \n",
    "    def __init__(self, **kwargs):\n",
    "        super(Denormalization, self).__init__(**kwargs)\n",
    "\n",
    "    def build(self, input_shape):\n",
    "        super(Denormalization, self).build(input_shape)  \n",
    "\n",
    "    def call(self, x):\n",
    "        #print(x[0] * x[1][:,:,0] * x[1][:,:,1])\n",
    "        return x[0] *(( x[1][:,:,0] + x[1][:,:,1])+( x[1][:,:,0] + x[1][:,:,1])\n",
    "                     +( x[2][:,:,0] + x[2][:,:,1])+( x[2][:,:,0] + x[2][:,:,1])\n",
    "                     +( x[3][:,:,0] + x[3][:,:,1])+( x[3][:,:,0] + x[3][:,:,1])\n",
    "                     +( x[4][:,:,0] + x[4][:,:,1])+( x[4][:,:,0] + x[4][:,:,1])\n",
    "                     +( x[5][:,:,0] + x[5][:,:,1])+( x[5][:,:,0] + x[5][:,:,1]))\n",
    "\n",
    "    def compute_output_shape(self, input_shape):\n",
    "        return input_shape[0]\n",
    "class summ(Layer):\n",
    "    \n",
    "    def __init__(self, **kwargs):\n",
    "        super(summ, self).__init__(**kwargs)\n",
    "\n",
    "    def build(self, input_shape):\n",
    "        super(summ, self).build(input_shape)  \n",
    "\n",
    "    def call(self, x):\n",
    "        #print(x[0] * x[1][:,:,0] * x[1][:,:,1])\n",
    "        return (x[0]+ x[1]+ x[2]+ x[3]+ x[4])\n",
    "\n",
    "    def compute_output_shape(self, input_shape):\n",
    "        return input_shape[0]"
   ]
  },
  {
   "cell_type": "code",
   "execution_count": 28,
   "metadata": {},
   "outputs": [
    {
     "data": {
      "text/plain": [
       "1"
      ]
     },
     "execution_count": 28,
     "metadata": {},
     "output_type": "execute_result"
    }
   ],
   "source": [
    "HORIZON"
   ]
  },
  {
   "cell_type": "markdown",
   "metadata": {},
   "source": [
    "### Create ES-RNN model\n",
    "Since Denormalization layer has inputs from two previous layers, we need to use functional API of Keras to create the model."
   ]
  },
  {
   "cell_type": "code",
   "execution_count": 29,
   "metadata": {
    "scrolled": true
   },
   "outputs": [
    {
     "name": "stdout",
     "output_type": "stream",
     "text": [
      "WARNING:tensorflow:From C:\\Users\\ghazwan\\anaconda3\\envs\\Tf\\lib\\site-packages\\keras\\backend\\tensorflow_backend.py:74: The name tf.get_default_graph is deprecated. Please use tf.compat.v1.get_default_graph instead.\n",
      "\n",
      "WARNING:tensorflow:From C:\\Users\\ghazwan\\anaconda3\\envs\\Tf\\lib\\site-packages\\keras\\backend\\tensorflow_backend.py:517: The name tf.placeholder is deprecated. Please use tf.compat.v1.placeholder instead.\n",
      "\n",
      "WARNING:tensorflow:From C:\\Users\\ghazwan\\anaconda3\\envs\\Tf\\lib\\site-packages\\keras\\backend\\tensorflow_backend.py:4138: The name tf.random_uniform is deprecated. Please use tf.random.uniform instead.\n",
      "\n",
      "<tf.Variable 'es_1/alpha:0' shape=(1,) dtype=float32_ref>\n",
      "<tf.Variable 'es_1/init_seasonality:0' shape=(24,) dtype=float32_ref>\n",
      "65\n",
      "<tf.Variable 'es_2/alpha:0' shape=(1,) dtype=float32_ref>\n",
      "<tf.Variable 'es_2/init_seasonality:0' shape=(24,) dtype=float32_ref>\n",
      "65\n",
      "<tf.Variable 'es_3/alpha:0' shape=(1,) dtype=float32_ref>\n",
      "<tf.Variable 'es_3/init_seasonality:0' shape=(24,) dtype=float32_ref>\n",
      "65\n",
      "<tf.Variable 'es_4/alpha:0' shape=(1,) dtype=float32_ref>\n",
      "<tf.Variable 'es_4/init_seasonality:0' shape=(24,) dtype=float32_ref>\n",
      "65\n",
      "<tf.Variable 'es_5/alpha:0' shape=(1,) dtype=float32_ref>\n",
      "<tf.Variable 'es_5/init_seasonality:0' shape=(24,) dtype=float32_ref>\n",
      "65\n"
     ]
    }
   ],
   "source": [
    "model_input = Input(shape=(None, 1))\n",
    "model_input2 = Input(shape=(None, 1))\n",
    "model_input3 = Input(shape=(None, 1))\n",
    "model_input4 = Input(shape=(None, 1))\n",
    "model_input5 = Input(shape=(None, 1))\n",
    "model_input6 = Input(shape=(None, 1))\n",
    "[normalized_input, denormalization_coeff] = ES(HORIZON, m, BATCH_SIZE, T)(model_input)\n",
    "gru_out1 =Bidirectional( LSTM(LATENT_DIM, return_sequences=True))(normalized_input)\n",
    "\n",
    "gru_out1= Dense(HORIZON)(gru_out1)\n",
    "#_________________________________________________________________________________\n",
    "[normalized_input2, denormalization_coeff2] = ES(HORIZON, m, BATCH_SIZE, T)(model_input2)\n",
    "gru_out2 =Bidirectional( LSTM(LATENT_DIM, return_sequences=True))(normalized_input2)\n",
    "gru_out2= Dense(HORIZON)(gru_out2)\n",
    "#_________________________________________________________________________________\n",
    "[normalized_input3, denormalization_coeff3] = ES(HORIZON, m, BATCH_SIZE, T)(model_input3)\n",
    "gru_out3 =Bidirectional( LSTM(LATENT_DIM, return_sequences=True))(normalized_input3)\n",
    "gru_out3= Dense(HORIZON)(gru_out3)\n",
    "\n",
    "#_________________________________________________________________________________\n",
    "[normalized_input4, denormalization_coeff4] = ES(HORIZON, m, BATCH_SIZE, T)(model_input4)\n",
    "gru_out4 =Bidirectional( LSTM(LATENT_DIM, return_sequences=True))(normalized_input4)\n",
    "gru_out4= Dense(HORIZON)(gru_out4)\n",
    "\n",
    "#_________________________________________________________________________________\n",
    "[normalized_input5, denormalization_coeff5] = ES(HORIZON, m, BATCH_SIZE, T)(model_input5)\n",
    "gru_out5 =Bidirectional( LSTM(LATENT_DIM, return_sequences=True))(normalized_input5)\n",
    "gru_out5= Dense(HORIZON)(gru_out5)\n",
    "\n",
    "#_________________________________________________________________________________\n",
    "#gru_out =Bidirectional( LSTM(LATENT_DIM))(normalized_input)\n",
    "gru_out=concatenate([gru_out1,gru_out2,gru_out3,gru_out4,gru_out5])\n",
    "gru_out =Bidirectional( LSTM(5))(gru_out)\n",
    "model_output_normalized = Dense(HORIZON)(gru_out)\n",
    "model_output_normalized=Activation('linear')(model_output_normalized)\n",
    "model_output = Denormalization()([model_output_normalized, denormalization_coeff, denormalization_coeff2, denormalization_coeff3, denormalization_coeff4, denormalization_coeff5])\n",
    "\n",
    "\n",
    "model = Model(inputs=[model_input,model_input2,model_input3,model_input4,model_input5], outputs=model_output)\n",
    "\n",
    "# our model will accept the inputs of the two branches and\n",
    "# then output a single value"
   ]
  },
  {
   "cell_type": "code",
   "execution_count": 30,
   "metadata": {},
   "outputs": [
    {
     "name": "stdout",
     "output_type": "stream",
     "text": [
      "WARNING:tensorflow:From C:\\Users\\ghazwan\\anaconda3\\envs\\Tf\\lib\\site-packages\\keras\\optimizers.py:790: The name tf.train.Optimizer is deprecated. Please use tf.compat.v1.train.Optimizer instead.\n",
      "\n"
     ]
    }
   ],
   "source": [
    "model.compile(optimizer='RMSprop', loss='mse')"
   ]
  },
  {
   "cell_type": "code",
   "execution_count": 31,
   "metadata": {},
   "outputs": [
    {
     "name": "stdout",
     "output_type": "stream",
     "text": [
      "__________________________________________________________________________________________________\n",
      "Layer (type)                    Output Shape         Param #     Connected to                     \n",
      "==================================================================================================\n",
      "input_1 (InputLayer)            (None, None, 1)      0                                            \n",
      "__________________________________________________________________________________________________\n",
      "input_2 (InputLayer)            (None, None, 1)      0                                            \n",
      "__________________________________________________________________________________________________\n",
      "input_3 (InputLayer)            (None, None, 1)      0                                            \n",
      "__________________________________________________________________________________________________\n",
      "input_4 (InputLayer)            (None, None, 1)      0                                            \n",
      "__________________________________________________________________________________________________\n",
      "input_5 (InputLayer)            (None, None, 1)      0                                            \n",
      "__________________________________________________________________________________________________\n",
      "es_1 (ES)                       [(None, None, 1), (N 27          input_1[0][0]                    \n",
      "__________________________________________________________________________________________________\n",
      "es_2 (ES)                       [(None, None, 1), (N 27          input_2[0][0]                    \n",
      "__________________________________________________________________________________________________\n",
      "es_3 (ES)                       [(None, None, 1), (N 27          input_3[0][0]                    \n",
      "__________________________________________________________________________________________________\n",
      "es_4 (ES)                       [(None, None, 1), (N 27          input_4[0][0]                    \n",
      "__________________________________________________________________________________________________\n",
      "es_5 (ES)                       [(None, None, 1), (N 27          input_5[0][0]                    \n",
      "__________________________________________________________________________________________________\n",
      "bidirectional_1 (Bidirectional) (None, None, 34)     2584        es_1[0][0]                       \n",
      "__________________________________________________________________________________________________\n",
      "bidirectional_2 (Bidirectional) (None, None, 34)     2584        es_2[0][0]                       \n",
      "__________________________________________________________________________________________________\n",
      "bidirectional_3 (Bidirectional) (None, None, 34)     2584        es_3[0][0]                       \n",
      "__________________________________________________________________________________________________\n",
      "bidirectional_4 (Bidirectional) (None, None, 34)     2584        es_4[0][0]                       \n",
      "__________________________________________________________________________________________________\n",
      "bidirectional_5 (Bidirectional) (None, None, 34)     2584        es_5[0][0]                       \n",
      "__________________________________________________________________________________________________\n",
      "dense_1 (Dense)                 (None, None, 1)      35          bidirectional_1[0][0]            \n",
      "__________________________________________________________________________________________________\n",
      "dense_2 (Dense)                 (None, None, 1)      35          bidirectional_2[0][0]            \n",
      "__________________________________________________________________________________________________\n",
      "dense_3 (Dense)                 (None, None, 1)      35          bidirectional_3[0][0]            \n",
      "__________________________________________________________________________________________________\n",
      "dense_4 (Dense)                 (None, None, 1)      35          bidirectional_4[0][0]            \n",
      "__________________________________________________________________________________________________\n",
      "dense_5 (Dense)                 (None, None, 1)      35          bidirectional_5[0][0]            \n",
      "__________________________________________________________________________________________________\n",
      "concatenate_1 (Concatenate)     (None, None, 5)      0           dense_1[0][0]                    \n",
      "                                                                 dense_2[0][0]                    \n",
      "                                                                 dense_3[0][0]                    \n",
      "                                                                 dense_4[0][0]                    \n",
      "                                                                 dense_5[0][0]                    \n",
      "__________________________________________________________________________________________________\n",
      "bidirectional_6 (Bidirectional) (None, 10)           440         concatenate_1[0][0]              \n",
      "__________________________________________________________________________________________________\n",
      "dense_6 (Dense)                 (None, 1)            11          bidirectional_6[0][0]            \n",
      "__________________________________________________________________________________________________\n",
      "activation_1 (Activation)       (None, 1)            0           dense_6[0][0]                    \n",
      "__________________________________________________________________________________________________\n",
      "denormalization_1 (Denormalizat (None, 1)            0           activation_1[0][0]               \n",
      "                                                                 es_1[0][1]                       \n",
      "                                                                 es_2[0][1]                       \n",
      "                                                                 es_3[0][1]                       \n",
      "                                                                 es_4[0][1]                       \n",
      "                                                                 es_5[0][1]                       \n",
      "==================================================================================================\n",
      "Total params: 13,681\n",
      "Trainable params: 13,681\n",
      "Non-trainable params: 0\n",
      "__________________________________________________________________________________________________\n"
     ]
    }
   ],
   "source": [
    "model.summary()"
   ]
  },
  {
   "cell_type": "code",
   "execution_count": 32,
   "metadata": {},
   "outputs": [],
   "source": [
    "from keras.utils.vis_utils import plot_model\n",
    "plot_model(model, to_file='./images/model_plot.png', show_shapes=True, show_layer_names=True)"
   ]
  },
  {
   "cell_type": "code",
   "execution_count": 33,
   "metadata": {},
   "outputs": [
    {
     "data": {
      "image/png": "[encoded data removed]",
      "text/plain": [
       "<IPython.core.display.Image object>"
      ]
     },
     "execution_count": 33,
     "metadata": {},
     "output_type": "execute_result"
    }
   ],
   "source": [
    "Image('./images/model_plot.png')"
   ]
  },
  {
   "cell_type": "code",
   "execution_count": 34,
   "metadata": {},
   "outputs": [
    {
     "data": {
      "text/html": [
       "<div>\n",
       "<style scoped>\n",
       "    .dataframe tbody tr th:only-of-type {\n",
       "        vertical-align: middle;\n",
       "    }\n",
       "\n",
       "    .dataframe tbody tr th {\n",
       "        vertical-align: top;\n",
       "    }\n",
       "\n",
       "    .dataframe thead tr th {\n",
       "        text-align: left;\n",
       "    }\n",
       "</style>\n",
       "<table border=\"1\" class=\"dataframe\">\n",
       "  <thead>\n",
       "    <tr>\n",
       "      <th>feature</th>\n",
       "      <th>y</th>\n",
       "    </tr>\n",
       "    <tr>\n",
       "      <th>time step</th>\n",
       "      <th>t+1</th>\n",
       "    </tr>\n",
       "  </thead>\n",
       "  <tbody>\n",
       "    <tr>\n",
       "      <th>2010-01-01 17:00:00</th>\n",
       "      <td>0.14</td>\n",
       "    </tr>\n",
       "    <tr>\n",
       "      <th>2010-01-01 18:00:00</th>\n",
       "      <td>0.11</td>\n",
       "    </tr>\n",
       "    <tr>\n",
       "      <th>2010-01-01 19:00:00</th>\n",
       "      <td>0.13</td>\n",
       "    </tr>\n",
       "    <tr>\n",
       "      <th>2010-01-01 20:00:00</th>\n",
       "      <td>0.08</td>\n",
       "    </tr>\n",
       "    <tr>\n",
       "      <th>2010-01-01 21:00:00</th>\n",
       "      <td>0.12</td>\n",
       "    </tr>\n",
       "    <tr>\n",
       "      <th>...</th>\n",
       "      <td>...</td>\n",
       "    </tr>\n",
       "    <tr>\n",
       "      <th>2013-12-31 12:00:00</th>\n",
       "      <td>0.09</td>\n",
       "    </tr>\n",
       "    <tr>\n",
       "      <th>2013-12-31 13:00:00</th>\n",
       "      <td>0.14</td>\n",
       "    </tr>\n",
       "    <tr>\n",
       "      <th>2013-12-31 14:00:00</th>\n",
       "      <td>0.13</td>\n",
       "    </tr>\n",
       "    <tr>\n",
       "      <th>2013-12-31 15:00:00</th>\n",
       "      <td>0.14</td>\n",
       "    </tr>\n",
       "    <tr>\n",
       "      <th>2013-12-31 16:00:00</th>\n",
       "      <td>0.15</td>\n",
       "    </tr>\n",
       "  </tbody>\n",
       "</table>\n",
       "<p>35040 rows × 1 columns</p>\n",
       "</div>"
      ],
      "text/plain": [
       "feature                y\n",
       "time step            t+1\n",
       "2010-01-01 17:00:00 0.14\n",
       "2010-01-01 18:00:00 0.11\n",
       "2010-01-01 19:00:00 0.13\n",
       "2010-01-01 20:00:00 0.08\n",
       "2010-01-01 21:00:00 0.12\n",
       "...                  ...\n",
       "2013-12-31 12:00:00 0.09\n",
       "2013-12-31 13:00:00 0.14\n",
       "2013-12-31 14:00:00 0.13\n",
       "2013-12-31 15:00:00 0.14\n",
       "2013-12-31 16:00:00 0.15\n",
       "\n",
       "[35040 rows x 1 columns]"
      ]
     },
     "execution_count": 34,
     "metadata": {},
     "output_type": "execute_result"
    }
   ],
   "source": [
    "train_inputs['target']"
   ]
  },
  {
   "cell_type": "code",
   "execution_count": 35,
   "metadata": {},
   "outputs": [],
   "source": [
    "earlystop = EarlyStopping(monitor='val_loss', min_delta=0, patience=20)"
   ]
  },
  {
   "cell_type": "code",
   "execution_count": 36,
   "metadata": {
    "scrolled": false
   },
   "outputs": [
    {
     "name": "stdout",
     "output_type": "stream",
     "text": [
      "WARNING:tensorflow:From C:\\Users\\ghazwan\\anaconda3\\envs\\Tf\\lib\\site-packages\\tensorflow_core\\python\\ops\\math_grad.py:1424: where (from tensorflow.python.ops.array_ops) is deprecated and will be removed in a future version.\n",
      "Instructions for updating:\n",
      "Use tf.where in 2.0, which has the same broadcast rule as np.where\n",
      "WARNING:tensorflow:From C:\\Users\\ghazwan\\anaconda3\\envs\\Tf\\lib\\site-packages\\keras\\backend\\tensorflow_backend.py:986: The name tf.assign_add is deprecated. Please use tf.compat.v1.assign_add instead.\n",
      "\n",
      "WARNING:tensorflow:From C:\\Users\\ghazwan\\anaconda3\\envs\\Tf\\lib\\site-packages\\keras\\backend\\tensorflow_backend.py:973: The name tf.assign is deprecated. Please use tf.compat.v1.assign instead.\n",
      "\n",
      "WARNING:tensorflow:From C:\\Users\\ghazwan\\anaconda3\\envs\\Tf\\lib\\site-packages\\keras\\backend\\tensorflow_backend.py:2741: The name tf.Session is deprecated. Please use tf.compat.v1.Session instead.\n",
      "\n",
      "Train on 28032 samples, validate on 7008 samples\n",
      "Epoch 1/10\n",
      "WARNING:tensorflow:From C:\\Users\\ghazwan\\anaconda3\\envs\\Tf\\lib\\site-packages\\keras\\backend\\tensorflow_backend.py:174: The name tf.get_default_session is deprecated. Please use tf.compat.v1.get_default_session instead.\n",
      "\n",
      "WARNING:tensorflow:From C:\\Users\\ghazwan\\anaconda3\\envs\\Tf\\lib\\site-packages\\keras\\backend\\tensorflow_backend.py:181: The name tf.ConfigProto is deprecated. Please use tf.compat.v1.ConfigProto instead.\n",
      "\n",
      "WARNING:tensorflow:From C:\\Users\\ghazwan\\anaconda3\\envs\\Tf\\lib\\site-packages\\keras\\backend\\tensorflow_backend.py:190: The name tf.global_variables is deprecated. Please use tf.compat.v1.global_variables instead.\n",
      "\n",
      "WARNING:tensorflow:From C:\\Users\\ghazwan\\anaconda3\\envs\\Tf\\lib\\site-packages\\keras\\backend\\tensorflow_backend.py:199: The name tf.is_variable_initialized is deprecated. Please use tf.compat.v1.is_variable_initialized instead.\n",
      "\n",
      "WARNING:tensorflow:From C:\\Users\\ghazwan\\anaconda3\\envs\\Tf\\lib\\site-packages\\keras\\backend\\tensorflow_backend.py:206: The name tf.variables_initializer is deprecated. Please use tf.compat.v1.variables_initializer instead.\n",
      "\n",
      "28032/28032 [==============================] - 64s 2ms/step - loss: 0.0055 - val_loss: 7.5678e-04\n",
      "Epoch 2/10\n",
      "28032/28032 [==============================] - 42s 2ms/step - loss: 0.0011 - val_loss: 9.0429e-04\n",
      "Epoch 3/10\n",
      "28032/28032 [==============================] - 49s 2ms/step - loss: 9.8970e-04 - val_loss: 7.1848e-04\n",
      "Epoch 4/10\n",
      "28032/28032 [==============================] - 49s 2ms/step - loss: 9.3459e-04 - val_loss: 6.8863e-04\n",
      "Epoch 5/10\n",
      "28032/28032 [==============================] - 46s 2ms/step - loss: 8.9969e-04 - val_loss: 6.6363e-04\n",
      "Epoch 6/10\n",
      "28032/28032 [==============================] - 41s 1ms/step - loss: 8.7585e-04 - val_loss: 6.5251e-04\n",
      "Epoch 7/10\n",
      "28032/28032 [==============================] - 40s 1ms/step - loss: 8.5725e-04 - val_loss: 6.4485e-04\n",
      "Epoch 8/10\n",
      "28032/28032 [==============================] - 40s 1ms/step - loss: 8.4282e-04 - val_loss: 6.3919e-04\n",
      "Epoch 9/10\n",
      "28032/28032 [==============================] - 41s 1ms/step - loss: 8.3100e-04 - val_loss: 6.3410e-04\n",
      "Epoch 10/10\n",
      "28032/28032 [==============================] - 42s 1ms/step - loss: 8.2095e-04 - val_loss: 6.2909e-04\n",
      "finsh\n"
     ]
    }
   ],
   "source": [
    "start1=time.clock()\n",
    "model.fit([train_inputs2['X'],train_inputs3['X'],train_inputs4['X'],train_inputs5['X'],train_inputs6['X']],\n",
    "         train_inputs['target'],\n",
    "          batch_size=BATCH_SIZE,\n",
    "          shuffle=False,\n",
    "          epochs=EPOCHS,\n",
    "          validation_split=0.2,\n",
    "          callbacks=[earlystop],\n",
    "          verbose=1)\n",
    "stop1=time.clock()\n",
    "print(\"finsh\")"
   ]
  },
  {
   "cell_type": "code",
   "execution_count": 37,
   "metadata": {},
   "outputs": [
    {
     "data": {
      "text/plain": [
       "474.1296787"
      ]
     },
     "execution_count": 37,
     "metadata": {},
     "output_type": "execute_result"
    }
   ],
   "source": [
    "stop1 - start1"
   ]
  },
  {
   "cell_type": "code",
   "execution_count": 38,
   "metadata": {},
   "outputs": [
    {
     "data": {
      "image/png": "[encoded data removed]",
      "text/plain": [
       "<Figure size 720x720 with 1 Axes>"
      ]
     },
     "metadata": {
      "needs_background": "light"
     },
     "output_type": "display_data"
    }
   ],
   "source": [
    "plot_df = pd.DataFrame.from_dict({'train_loss':model.history.history['loss'], 'val_loss':model.history.history['val_loss']})\n",
    "plot_df.plot(logy=True, figsize=(10,10), fontsize=12)\n",
    "plt.xlabel('epoch', fontsize=12)\n",
    "plt.ylabel('loss', fontsize=12)\n",
    "plt.show()"
   ]
  },
  {
   "cell_type": "markdown",
   "metadata": {},
   "source": [
    "## Evaluate the model"
   ]
  },
  {
   "cell_type": "code",
   "execution_count": 39,
   "metadata": {},
   "outputs": [],
   "source": [
    "\n",
    "test0 = energy0.copy()[test_start_dt:][['load', 'crime1','crime2','crime3','crime4','crime5']]\n",
    "test0[['load', 'crime1','crime2','crime3','crime4','crime5']] = X_scaler.transform(test0)"
   ]
  },
  {
   "cell_type": "code",
   "execution_count": 40,
   "metadata": {},
   "outputs": [
    {
     "data": {
      "text/html": [
       "<div>\n",
       "<style scoped>\n",
       "    .dataframe tbody tr th:only-of-type {\n",
       "        vertical-align: middle;\n",
       "    }\n",
       "\n",
       "    .dataframe tbody tr th {\n",
       "        vertical-align: top;\n",
       "    }\n",
       "\n",
       "    .dataframe thead th {\n",
       "        text-align: right;\n",
       "    }\n",
       "</style>\n",
       "<table border=\"1\" class=\"dataframe\">\n",
       "  <thead>\n",
       "    <tr style=\"text-align: right;\">\n",
       "      <th></th>\n",
       "      <th>load</th>\n",
       "      <th>crime1</th>\n",
       "      <th>crime2</th>\n",
       "      <th>crime3</th>\n",
       "      <th>crime4</th>\n",
       "      <th>crime5</th>\n",
       "    </tr>\n",
       "  </thead>\n",
       "  <tbody>\n",
       "    <tr>\n",
       "      <th>2014-01-01 11:00:00</th>\n",
       "      <td>0.07</td>\n",
       "      <td>0.14</td>\n",
       "      <td>0.31</td>\n",
       "      <td>0.06</td>\n",
       "      <td>0.02</td>\n",
       "      <td>0.06</td>\n",
       "    </tr>\n",
       "    <tr>\n",
       "      <th>2014-01-01 12:00:00</th>\n",
       "      <td>0.29</td>\n",
       "      <td>0.32</td>\n",
       "      <td>0.38</td>\n",
       "      <td>0.16</td>\n",
       "      <td>0.15</td>\n",
       "      <td>0.56</td>\n",
       "    </tr>\n",
       "    <tr>\n",
       "      <th>2014-01-01 13:00:00</th>\n",
       "      <td>0.11</td>\n",
       "      <td>0.14</td>\n",
       "      <td>0.38</td>\n",
       "      <td>0.06</td>\n",
       "      <td>0.04</td>\n",
       "      <td>0.12</td>\n",
       "    </tr>\n",
       "    <tr>\n",
       "      <th>2014-01-01 14:00:00</th>\n",
       "      <td>0.10</td>\n",
       "      <td>0.24</td>\n",
       "      <td>0.55</td>\n",
       "      <td>0.04</td>\n",
       "      <td>0.01</td>\n",
       "      <td>0.02</td>\n",
       "    </tr>\n",
       "    <tr>\n",
       "      <th>2014-01-01 15:00:00</th>\n",
       "      <td>0.15</td>\n",
       "      <td>0.32</td>\n",
       "      <td>0.28</td>\n",
       "      <td>0.14</td>\n",
       "      <td>0.05</td>\n",
       "      <td>0.15</td>\n",
       "    </tr>\n",
       "    <tr>\n",
       "      <th>...</th>\n",
       "      <td>...</td>\n",
       "      <td>...</td>\n",
       "      <td>...</td>\n",
       "      <td>...</td>\n",
       "      <td>...</td>\n",
       "      <td>...</td>\n",
       "    </tr>\n",
       "    <tr>\n",
       "      <th>2014-12-30 14:00:00</th>\n",
       "      <td>0.15</td>\n",
       "      <td>0.49</td>\n",
       "      <td>0.21</td>\n",
       "      <td>0.02</td>\n",
       "      <td>0.04</td>\n",
       "      <td>0.25</td>\n",
       "    </tr>\n",
       "    <tr>\n",
       "      <th>2014-12-30 15:00:00</th>\n",
       "      <td>0.13</td>\n",
       "      <td>0.41</td>\n",
       "      <td>0.45</td>\n",
       "      <td>0.06</td>\n",
       "      <td>0.02</td>\n",
       "      <td>0.08</td>\n",
       "    </tr>\n",
       "    <tr>\n",
       "      <th>2014-12-30 16:00:00</th>\n",
       "      <td>0.14</td>\n",
       "      <td>0.24</td>\n",
       "      <td>0.28</td>\n",
       "      <td>0.08</td>\n",
       "      <td>0.05</td>\n",
       "      <td>0.25</td>\n",
       "    </tr>\n",
       "    <tr>\n",
       "      <th>2014-12-30 17:00:00</th>\n",
       "      <td>0.12</td>\n",
       "      <td>0.43</td>\n",
       "      <td>0.31</td>\n",
       "      <td>0.06</td>\n",
       "      <td>0.02</td>\n",
       "      <td>0.10</td>\n",
       "    </tr>\n",
       "    <tr>\n",
       "      <th>2014-12-30 18:00:00</th>\n",
       "      <td>0.16</td>\n",
       "      <td>0.54</td>\n",
       "      <td>0.41</td>\n",
       "      <td>0.06</td>\n",
       "      <td>0.02</td>\n",
       "      <td>0.19</td>\n",
       "    </tr>\n",
       "  </tbody>\n",
       "</table>\n",
       "<p>8720 rows × 6 columns</p>\n",
       "</div>"
      ],
      "text/plain": [
       "                     load  crime1  crime2  crime3  crime4  crime5\n",
       "2014-01-01 11:00:00  0.07    0.14    0.31    0.06    0.02    0.06\n",
       "2014-01-01 12:00:00  0.29    0.32    0.38    0.16    0.15    0.56\n",
       "2014-01-01 13:00:00  0.11    0.14    0.38    0.06    0.04    0.12\n",
       "2014-01-01 14:00:00  0.10    0.24    0.55    0.04    0.01    0.02\n",
       "2014-01-01 15:00:00  0.15    0.32    0.28    0.14    0.05    0.15\n",
       "...                   ...     ...     ...     ...     ...     ...\n",
       "2014-12-30 14:00:00  0.15    0.49    0.21    0.02    0.04    0.25\n",
       "2014-12-30 15:00:00  0.13    0.41    0.45    0.06    0.02    0.08\n",
       "2014-12-30 16:00:00  0.14    0.24    0.28    0.08    0.05    0.25\n",
       "2014-12-30 17:00:00  0.12    0.43    0.31    0.06    0.02    0.10\n",
       "2014-12-30 18:00:00  0.16    0.54    0.41    0.06    0.02    0.19\n",
       "\n",
       "[8720 rows x 6 columns]"
      ]
     },
     "execution_count": 40,
     "metadata": {},
     "output_type": "execute_result"
    }
   ],
   "source": [
    "test0"
   ]
  },
  {
   "cell_type": "code",
   "execution_count": 41,
   "metadata": {},
   "outputs": [],
   "source": [
    "look_back_dt = dt.datetime.strptime(test_start_dt, '%Y-%m-%d %H:%M:%S') - dt.timedelta(hours=T-1)\n",
    "test = test0.copy()[test_start_dt:test_end_dt][['load']]\n",
    "\n",
    "test_inputs = TimeSeriesTensor(test, 'load', HORIZON,BATCH_SIZE, tensor_structure)\n",
    "\n",
    "test2 = test0.copy()[test_start_dt:test_end_dt][['load']]\n",
    "\n",
    "test_inputs2 = TimeSeriesTensor(test2, 'load', HORIZON,BATCH_SIZE, tensor_structure)\n",
    "\n",
    "test3 = test0.copy()[test_start_dt:test_end_dt][['load']]\n",
    "\n",
    "test_inputs3 = TimeSeriesTensor(test3, 'load', HORIZON,BATCH_SIZE, tensor_structure)\n",
    "\n",
    "test4 = test0.copy()[test_start_dt:test_end_dt][['load']]\n",
    "\n",
    "test_inputs4 = TimeSeriesTensor(test4, 'load', HORIZON,BATCH_SIZE, tensor_structure)\n",
    "\n",
    "test5 = test0.copy()[test_start_dt:test_end_dt][['load']]\n",
    "\n",
    "test_inputs5 = TimeSeriesTensor(test5, 'load', HORIZON,BATCH_SIZE, tensor_structure)\n",
    "\n",
    "test6 = test0.copy()[test_start_dt:test_end_dt][['load']]\n",
    "\n",
    "test_inputs6 = TimeSeriesTensor(test6, 'load', HORIZON,BATCH_SIZE, tensor_structure)"
   ]
  },
  {
   "cell_type": "code",
   "execution_count": 42,
   "metadata": {},
   "outputs": [],
   "source": [
    "predictions = model.predict([test_inputs2['X'],test_inputs3['X'],test_inputs4['X'],test_inputs5['X'],test_inputs6['X']], batch_size=BATCH_SIZE)\n"
   ]
  },
  {
   "cell_type": "code",
   "execution_count": 43,
   "metadata": {},
   "outputs": [
    {
     "data": {
      "text/plain": [
       "array([[0.09],\n",
       "       [0.09],\n",
       "       [0.08],\n",
       "       ...,\n",
       "       [0.08],\n",
       "       [0.06],\n",
       "       [0.05]], dtype=float32)"
      ]
     },
     "execution_count": 43,
     "metadata": {},
     "output_type": "execute_result"
    }
   ],
   "source": [
    "predictions"
   ]
  },
  {
   "cell_type": "code",
   "execution_count": 44,
   "metadata": {},
   "outputs": [],
   "source": [
    "eval_df = create_evaluation_df(predictions, test_inputs, HORIZON, y_scaler,BATCH_SIZE)\n",
    "eval_T1=eval_df[eval_df['h']=='t+1']\n",
    "eval_T2=eval_df[eval_df['h']=='t+2']\n",
    "eval_T3=eval_df[eval_df['h']=='t+3']"
   ]
  },
  {
   "cell_type": "markdown",
   "metadata": {},
   "source": [
    "Compute MAPE for each forecast horizon"
   ]
  },
  {
   "cell_type": "code",
   "execution_count": 45,
   "metadata": {},
   "outputs": [],
   "source": [
    "from sklearn.metrics import mean_squared_error"
   ]
  },
  {
   "cell_type": "markdown",
   "metadata": {},
   "source": [
    "Compute MAPE across all predictions"
   ]
  },
  {
   "cell_type": "code",
   "execution_count": 46,
   "metadata": {},
   "outputs": [
    {
     "name": "stdout",
     "output_type": "stream",
     "text": [
      "0.3155770252951642\n"
     ]
    }
   ],
   "source": [
    "mapa1=mean_absolute_percentage_error(eval_T1['prediction'], eval_T1['actual'])\n",
    "print(mapa1)"
   ]
  },
  {
   "cell_type": "markdown",
   "metadata": {},
   "source": [
    "Compute RMSE across all predictions"
   ]
  },
  {
   "cell_type": "code",
   "execution_count": 47,
   "metadata": {},
   "outputs": [
    {
     "data": {
      "text/plain": [
       "11.97908631309905"
      ]
     },
     "execution_count": 47,
     "metadata": {},
     "output_type": "execute_result"
    }
   ],
   "source": [
    "mean_squared_error(eval_T1['prediction'], eval_T1['actual'], squared=False)"
   ]
  },
  {
   "cell_type": "markdown",
   "metadata": {},
   "source": [
    "Compute MAE across all prediction"
   ]
  },
  {
   "cell_type": "code",
   "execution_count": 48,
   "metadata": {},
   "outputs": [
    {
     "data": {
      "text/plain": [
       "9.513087298123347"
      ]
     },
     "execution_count": 48,
     "metadata": {},
     "output_type": "execute_result"
    }
   ],
   "source": [
    "mean_absolute_error(eval_T1['prediction'], eval_T1['actual'])"
   ]
  },
  {
   "cell_type": "markdown",
   "metadata": {},
   "source": [
    "_____________________________________________________________________________________________________________\n",
    "*************************************************************************************************************\n",
    "Compute MAPE across all predictions"
   ]
  },
  {
   "cell_type": "code",
   "execution_count": 49,
   "metadata": {},
   "outputs": [
    {
     "data": {
      "text/plain": [
       "0.46455738825939286"
      ]
     },
     "execution_count": 49,
     "metadata": {},
     "output_type": "execute_result"
    }
   ],
   "source": [
    "mape(eval_df['prediction'], eval_df['actual'])"
   ]
  },
  {
   "cell_type": "code",
   "execution_count": 50,
   "metadata": {},
   "outputs": [
    {
     "data": {
      "text/plain": [
       "9.513087298123347"
      ]
     },
     "execution_count": 50,
     "metadata": {},
     "output_type": "execute_result"
    }
   ],
   "source": [
    "np.sqrt((eval_df['prediction'] - eval_df['actual']) ** 2).mean()"
   ]
  },
  {
   "cell_type": "code",
   "execution_count": 51,
   "metadata": {},
   "outputs": [
    {
     "data": {
      "text/plain": [
       "9.513087298123347"
      ]
     },
     "execution_count": 51,
     "metadata": {},
     "output_type": "execute_result"
    }
   ],
   "source": [
    "((eval_df['prediction'] - eval_df['actual']).abs()).mean()"
   ]
  },
  {
   "cell_type": "code",
   "execution_count": 52,
   "metadata": {},
   "outputs": [
    {
     "data": {
      "text/plain": [
       "h\n",
       "t+1   0.46\n",
       "Name: APE, dtype: float64"
      ]
     },
     "execution_count": 52,
     "metadata": {},
     "output_type": "execute_result"
    }
   ],
   "source": [
    "eval_df['APE'] = (eval_df['prediction'] - eval_df['actual']).abs() / eval_df['actual']\n",
    "(eval_df.groupby('h')['APE'].mean())"
   ]
  },
  {
   "cell_type": "markdown",
   "metadata": {},
   "source": [
    "Plot actuals vs predictions at each horizon for first week of the test period. As is to be expected, predictions for one step ahead (*t+1*) are more accurate than those for 2 or 3 steps ahead"
   ]
  },
  {
   "cell_type": "code",
   "execution_count": 53,
   "metadata": {},
   "outputs": [
    {
     "data": {
      "image/png": "[encoded data removed]",
      "text/plain": [
       "<Figure size 1080x576 with 1 Axes>"
      ]
     },
     "metadata": {
      "needs_background": "light"
     },
     "output_type": "display_data"
    }
   ],
   "source": [
    "plot_df = eval_df[(eval_df.timestamp<year2+'-1-08') & (eval_df.h=='t+1')][['timestamp', 'actual']]\n",
    "for t in range(1, HORIZON+1):\n",
    "    plot_df['t+'+str(t)] = eval_df[(eval_df.timestamp<year2+'-1-08') & (eval_df.h=='t+'+str(t))]['prediction'].values\n",
    "\n",
    "fig = plt.figure(figsize=(15, 8))\n",
    "ax = plt.plot(plot_df['timestamp'], plot_df['actual'], color='red', linewidth=1.0,label='actual')\n",
    "ax = fig.add_subplot(111)\n",
    "ax.plot(plot_df['timestamp'], plot_df['t+1'], color='blue', linewidth=1.0, alpha=0.75,label='prediction T+1')\n",
    "plt.xlabel('timestamp', fontsize=12)\n",
    "plt.ylabel('number of crime', fontsize=12)\n",
    "try:\n",
    "    arr=energy['BORO_NM'].unique()[0]\n",
    "except KeyError:\n",
    "    \n",
    "    arr=\"all dataset\"\n",
    "\n",
    "       \n",
    "plt.title(arr+\" \"+year2+\" MAPE for t+1=\"+str(mapa1))\n",
    "ax.legend(loc='best')\n",
    "plt.show()"
   ]
  },
  {
   "cell_type": "code",
   "execution_count": 54,
   "metadata": {},
   "outputs": [
    {
     "name": "stdout",
     "output_type": "stream",
     "text": [
      "274973.0\n",
      "232906\n"
     ]
    }
   ],
   "source": [
    "print(plot_df['actual'].sum())\n",
    "print(int(plot_df['t+1'].sum()))\n"
   ]
  },
  {
   "cell_type": "code",
   "execution_count": 57,
   "metadata": {},
   "outputs": [],
   "source": [
    "#energy['BORO_NM'].unique()[0]"
   ]
  },
  {
   "cell_type": "code",
   "execution_count": 55,
   "metadata": {},
   "outputs": [],
   "source": [
    "path1=\"C:/Users/ghazwan/Pictures/last test/\"+str(year2)+\"/hourly/w/\""
   ]
  },
  {
   "cell_type": "code",
   "execution_count": 56,
   "metadata": {},
   "outputs": [],
   "source": [
    "model.save_weights(path1+str(T)+\"es_bi_lstm_all2_\"+year2+\".h5\")\n",
    "model.save(path1+\"es_bi_lstm_all2_\"+year2)\n",
    "eval_T1.to_csv (path1+\"es_bi_lstm_all2_\"+year2+'XL.csv')"
   ]
  },
  {
   "cell_type": "code",
   "execution_count": 63,
   "metadata": {},
   "outputs": [
    {
     "data": {
      "text/plain": [
       "<Figure size 432x288 with 0 Axes>"
      ]
     },
     "metadata": {},
     "output_type": "display_data"
    }
   ],
   "source": [
    "plt.savefig(path1+'books_read.png')"
   ]
  },
  {
   "cell_type": "code",
   "execution_count": 55,
   "metadata": {},
   "outputs": [
    {
     "data": {
      "text/plain": [
       "'2016'"
      ]
     },
     "execution_count": 55,
     "metadata": {},
     "output_type": "execute_result"
    }
   ],
   "source": [
    "year2"
   ]
  },
  {
   "cell_type": "code",
   "execution_count": null,
   "metadata": {},
   "outputs": [],
   "source": []
  }
 ],
 "metadata": {
  "kernelspec": {
   "display_name": "Python 3",
   "language": "python",
   "name": "python3"
  },
  "language_info": {
   "codemirror_mode": {
    "name": "ipython",
    "version": 3
   },
   "file_extension": ".py",
   "mimetype": "text/x-python",
   "name": "python",
   "nbconvert_exporter": "python",
   "pygments_lexer": "ipython3",
   "version": "3.6.13"
  }
 },
 "nbformat": 4,
 "nbformat_minor": 2
}
